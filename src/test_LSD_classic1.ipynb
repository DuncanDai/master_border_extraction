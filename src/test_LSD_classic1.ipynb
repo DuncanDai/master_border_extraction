{
 "cells": [
  {
   "cell_type": "markdown",
   "metadata": {},
   "source": [
    "# Bottom-up\n",
    "1 LSD [2010]  \n",
    "2 EDLines [2011]  \n",
    "3 Cannylines [2015]  \n",
    "4 LSM [2016]"
   ]
  },
  {
   "cell_type": "code",
   "execution_count": 7,
   "metadata": {},
   "outputs": [],
   "source": [
    "# -*- encoding: utf-8 -*-\n",
    "import sys\n",
    "import cv2\n",
    "import numpy as np\n",
    "%matplotlib inline\n",
    "import matplotlib.pyplot as plt\n",
    "\n",
    "from typing import Tuple\n",
    "\n",
    "# paths\n",
    "PATH_OUTPUT = 'D:\\\\My_Data\\\\me_Docs\\\\Masterarbeit\\\\master_border_extraction\\\\data\\\\output\\\\'\n",
    "PATH_IMAGE = 'D:\\\\My_Data\\\\me_Docs\\\\Masterarbeit\\\\master_border_extraction\\\\images\\\\test1.png'\n",
    "PATH_FILTERED_IMAGE = PATH_OUTPUT + 'preprocess gray guided=(7, 0.25) CLAHE=(1.8, 39, 39) homo=(100, 2, 0.5, 1).png'\n",
    "PATH_FILTERED_IMAGE_COLOR = PATH_OUTPUT + 'preprocess color guided=(7, 0.25) CLAHE=(1.8, 39, 39) homo=(100, 2, 0.5, 1).png'\n",
    "\n",
    "\n",
    "# env: windows\n",
    "img_gray_origin = cv2.imread(PATH_IMAGE, cv2.IMREAD_GRAYSCALE)\n",
    "img_bgr_origin = cv2.imread(PATH_IMAGE, cv2.IMREAD_COLOR) \n",
    "img_rgb_origin = cv2.cvtColor(img_bgr_origin, cv2.COLOR_BGR2RGB)\n",
    "\n",
    "\n",
    "img_gray_filtered = cv2.imread(PATH_FILTERED_IMAGE, cv2.IMREAD_GRAYSCALE) \n",
    "img_bgr_filtered = cv2.imread(PATH_FILTERED_IMAGE_COLOR, cv2.IMREAD_COLOR) \n",
    "img_rgb_filtered = cv2.cvtColor(img_bgr_filtered, cv2.COLOR_BGR2RGB)\n",
    "\n",
    "\n",
    "img_tmp = cv2.imread(PATH_OUTPUT+'canny.png', cv2.IMREAD_GRAYSCALE)\n",
    "# PATH_TEST = PATH_OUTPUT + 'd0=110, gamma_h=2.4, gamma_l=0.7, c=2.0.png'\n",
    "img_test = img_tmp\n",
    "fig_num = 1"
   ]
  },
  {
   "cell_type": "code",
   "execution_count": 40,
   "metadata": {},
   "outputs": [],
   "source": [
    "cv2.imwrite(PATH_OUTPUT+f'LineDetector {fig_num}.png', result_img)\n",
    "fig_num += 1"
   ]
  },
  {
   "cell_type": "markdown",
   "metadata": {},
   "source": [
    "Test"
   ]
  },
  {
   "cell_type": "code",
   "execution_count": 2,
   "metadata": {},
   "outputs": [
    {
     "name": "stdout",
     "output_type": "stream",
     "text": [
      "(1125, 1, 4)\n"
     ]
    }
   ],
   "source": [
    "### LSD method 1\n",
    "img = img_test\n",
    "\n",
    "fld = cv2.ximgproc.createFastLineDetector()\n",
    "lines = fld.detect(img)\n",
    "result_img = fld.drawSegments(img, lines)\n",
    "cv2.namedWindow(\"LSD\", cv2.WINDOW_NORMAL) \n",
    "cv2.imshow(\"LSD\",result_img)\n",
    "cv2.waitKey(0)\n",
    "cv2.destroyAllWindows()\n",
    "\n",
    "print(lines.shape)\n",
    "\n"
   ]
  },
  {
   "cell_type": "markdown",
   "metadata": {},
   "source": [
    "### 1 LSD [2010]"
   ]
  },
  {
   "cell_type": "code",
   "execution_count": 8,
   "metadata": {},
   "outputs": [],
   "source": [
    "# # 读取输入图片\n",
    "# img0 = cv2.imread(\"test3.jpg\")\n",
    "# # 将彩色图片转换为灰度图片\n",
    "# img = cv2.cvtColor(img0,cv2.COLOR_BGR2GRAY)\n",
    "\n",
    "img = img_gray_origin\n",
    "img0 = img_rgb_origin\n",
    "# 创建一个LSD对象\n",
    "lsd = cv2.createLineSegmentDetector(0)\n",
    "# 执行检测结果\n",
    "dlines = lsd.detect(img)\n",
    "# 绘制检测结果\n",
    "for dline in dlines[0]:\n",
    "    x0 = int(round(dline[0][0]))\n",
    "    y0 = int(round(dline[0][1]))\n",
    "    x1 = int(round(dline[0][2]))\n",
    "    y1 = int(round(dline[0][3]))\n",
    "    cv2.line(img0, (x0, y0), (x1,y1), (0,255,0), 1, cv2.LINE_AA)\n",
    "\n",
    "# 显示并保存结果\n",
    "cv2.imwrite(PATH_OUTPUT+'LSD 1.jpg', img0)\n",
    "cv2.namedWindow(\"LSD\", cv2.WINDOW_NORMAL) \n",
    "cv2.imshow(\"LSD\", img0)\n",
    "cv2.waitKey(0)\n",
    "cv2.destroyAllWindows()\n"
   ]
  },
  {
   "cell_type": "markdown",
   "metadata": {},
   "source": [
    "### 2 EDLines [2011]  "
   ]
  },
  {
   "cell_type": "markdown",
   "metadata": {},
   "source": [
    "### 3 Cannylines [2015] "
   ]
  },
  {
   "cell_type": "markdown",
   "metadata": {},
   "source": [
    "### 4 LSM [2016]"
   ]
  },
  {
   "cell_type": "markdown",
   "metadata": {},
   "source": [
    "# Test"
   ]
  },
  {
   "cell_type": "code",
   "execution_count": 46,
   "metadata": {},
   "outputs": [],
   "source": [
    "# trackbar callback fucntion does nothing\n",
    "def update_all(x):\n",
    "    pass\n",
    "\n",
    "cv2.namedWindow('controls canny', cv2.WINDOW_NORMAL)\n",
    "\n",
    "cv2.createTrackbar('low threshold','controls canny', 5, 80, update_all)\n",
    "cv2.createTrackbar('high threshold','controls canny', 80, 200, update_all)\n",
    "\n",
    "figure_num = 0\n",
    "while True:\n",
    "    low_thres = float(cv2.getTrackbarPos('low threshold','controls canny'))\n",
    "    high_thres = float(cv2.getTrackbarPos('high threshold','controls canny'))\n",
    "    # adjust the params\n",
    "\n",
    "    # waitfor the user to press keys \n",
    "    k = cv2.waitKey(0) & 0xFF\n",
    "    if k == 32:  # `Space` key\n",
    "        edges = cv2.Canny(img_gray_origin, low_thres, high_thres)  # the upper threshold should be lower (about 80)\n",
    "        combined = np.hstack((img_gray_origin, edges))\n",
    "    \n",
    "        cv2.namedWindow(f'controls canny {figure_num + 1} {low_thres, high_thres}', cv2.WINDOW_NORMAL)\n",
    "        cv2.imshow(f'controls canny {figure_num + 1} {low_thres, high_thres}', combined)\n",
    "        figure_num +=1\n",
    "    elif k == 27:  # `Esc` key\n",
    "        break\n",
    "cv2.destroyAllWindows()"
   ]
  },
  {
   "cell_type": "markdown",
   "metadata": {},
   "source": [
    "Extra: HoughlineP"
   ]
  },
  {
   "cell_type": "code",
   "execution_count": null,
   "metadata": {},
   "outputs": [],
   "source": []
  },
  {
   "cell_type": "markdown",
   "metadata": {},
   "source": [
    "Extra: Canny+Houghlines"
   ]
  },
  {
   "cell_type": "code",
   "execution_count": 6,
   "metadata": {},
   "outputs": [
    {
     "name": "stdout",
     "output_type": "stream",
     "text": [
      "(17691, 1, 4)\n"
     ]
    },
    {
     "data": {
      "text/plain": [
       "True"
      ]
     },
     "execution_count": 6,
     "metadata": {},
     "output_type": "execute_result"
    }
   ],
   "source": [
    "# Read image\n",
    "# image = cv2.imread(PATH_IMAGE)\n",
    "# image = cv2.imread(PATH_FILTERED_IMAGE_COLOR)\n",
    " \n",
    "# # Convert image to grayscale\n",
    "# gray = cv2.cvtColor(image,cv2.COLOR_BGR2GRAY)\n",
    " \n",
    "# # Use canny edge detection\n",
    "# edges = cv2.Canny(gray,50,150,apertureSize=3)\n",
    "\n",
    "image = img_gray_filtered\n",
    "edges = cv2.Canny(image, 50, 110, apertureSize=3)\n",
    "\n",
    "# Apply HoughLinesP method to\n",
    "# to directly obtain line end points\n",
    "lines_list =[]\n",
    "lines = cv2.HoughLinesP(\n",
    "            edges, # Input edge image\n",
    "            1, # Distance resolution in pixels\n",
    "            np.pi/180, # Angle resolution in radians\n",
    "            threshold=100, # Min number of votes for valid line\n",
    "            minLineLength=5, # Min allowed length of line\n",
    "            maxLineGap=10 # Max allowed gap between line for joining them\n",
    "            )\n",
    " \n",
    "# Iterate over points\n",
    "for points in lines:\n",
    "    # Extracted points nested in the list\n",
    "    x1,y1,x2,y2=points[0]\n",
    "    # Draw the lines joing the points\n",
    "    # On the original image\n",
    "    cv2.line(image,(x1,y1),(x2,y2),(0,255,0),2)  # (0,255,0) is green\n",
    "    # Maintain a simples lookup list for points\n",
    "    lines_list.append([(x1,y1),(x2,y2)])\n",
    "     \n",
    "# Save the result image\n",
    "print(lines.shape)\n",
    "cv2.imwrite(PATH_OUTPUT+f'detectedLines {fig_num}.png',image)"
   ]
  }
 ],
 "metadata": {
  "kernelspec": {
   "display_name": "Python 3.9.11 ('kitma': venv)",
   "language": "python",
   "name": "python3"
  },
  "language_info": {
   "codemirror_mode": {
    "name": "ipython",
    "version": 3
   },
   "file_extension": ".py",
   "mimetype": "text/x-python",
   "name": "python",
   "nbconvert_exporter": "python",
   "pygments_lexer": "ipython3",
   "version": "3.9.11"
  },
  "orig_nbformat": 4,
  "vscode": {
   "interpreter": {
    "hash": "463793bc9e1e9a58e8cafb277c4e2d1a0246c1b12e6a20c09fb9ac2fbdfa6020"
   }
  }
 },
 "nbformat": 4,
 "nbformat_minor": 2
}
