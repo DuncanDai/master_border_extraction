{
 "metadata": {
  "language_info": {
   "codemirror_mode": {
    "name": "ipython",
    "version": 3
   },
   "file_extension": ".py",
   "mimetype": "text/x-python",
   "name": "python",
   "nbconvert_exporter": "python",
   "pygments_lexer": "ipython3",
   "version": "3.7.8-final"
  },
  "orig_nbformat": 2,
  "kernelspec": {
   "name": "python3",
   "display_name": "Python 3.7.8 64-bit",
   "metadata": {
    "interpreter": {
     "hash": "57baa5815c940fdaff4d14510622de9616cae602444507ba5d0b6727c008cbd6"
    }
   }
  }
 },
 "nbformat": 4,
 "nbformat_minor": 2,
 "cells": [
  {
   "cell_type": "code",
   "execution_count": 13,
   "metadata": {},
   "outputs": [],
   "source": [
    "#!/usr/bin/python3 \n",
    "import os \n",
    "import time\n",
    "import json\n",
    "import shutil\n",
    "# from shutil import copy, move\n",
    "\n",
    "# env: pool-206\n",
    "PATH_SRC = r'D:\\\\Image'\n",
    "PATH_DST_VALID = r'D:\\\\dataset_valid'\n",
    "PATH_DST_TEST = r'D:\\\\dataset_test'\n",
    "\n",
    "FILE_JSON = r'U:\\\\my_projs\\\\master_border_extraction\\\\mandrel_border_manually_train_val_test_split.json'\n",
    "\n",
    "def _get_labels():\n",
    "    with open(FILE_JSON, 'r') as f:\n",
    "        labels = json.load(f)\n",
    "    return labels\n",
    "\n",
    "entries = _get_labels()\n",
    "entries_train = entries['train']  # 25 folders\n",
    "entries_val = entries['val'] # 25 folders\n",
    "entries_test = entries['test'] # 25 folders\n",
    "\n",
    "\n",
    "def move_data_from_src(entries, PATH_SRC, PATH_DST):\n",
    "    record = {}\n",
    "    for folder in entries.keys():\n",
    "        # if folder == '2022-04-28_13-09-34':\n",
    "        #     continue\n",
    "        dst_folder_path = os.path.join(PATH_DST, folder)\n",
    "        os.makedirs(dst_folder_path, exist_ok=True)\n",
    "\n",
    "        images_in_folder = entries[folder]\n",
    "        record[folder] = len(images_in_folder)\n",
    "        for image in images_in_folder:\n",
    "            time.sleep(1) # seconds\n",
    "            src = os.path.join(PATH_SRC, folder, image + '.png')\n",
    "            dst = os.path.join(dst_folder_path, image + '.png')\n",
    "            shutil.move(src, dst)   \n",
    "        \n",
    "    return record\n",
    "            "
   ]
  },
  {
   "cell_type": "code",
   "execution_count": null,
   "metadata": {},
   "outputs": [],
   "source": [
    "folder = '2022-04-28_14-07-03';\n",
    "image = '0';\n",
    "PATH_DST = PATH_DST_VALID;\n",
    "dst_folder_path = os.path.join(PATH_DST, folder);\n",
    "os.makedirs(dst_folder_path);\n",
    "src = os.path.join(PATH_SRC, folder, image + '.png');\n",
    "dst = os.path.join(dst_folder_path, image + '.png');\n"
   ]
  },
  {
   "cell_type": "code",
   "execution_count": 9,
   "metadata": {},
   "outputs": [],
   "source": [
    "PATH_DST = PATH_DST_VALID\n",
    "record = move_data_from_src(entries_val, PATH_SRC, PATH_DST);\n",
    "with open('valid_stats.json', 'w') as f:\n",
    "    json.dump(record, f)"
   ]
  },
  {
   "cell_type": "code",
   "execution_count": 14,
   "metadata": {},
   "outputs": [],
   "source": [
    "PATH_DST = PATH_DST_TEST\n",
    "record = move_data_from_src(entries_test, PATH_SRC, PATH_DST);\n",
    "with open('test_stats.json', 'w') as f:\n",
    "    json.dump(record, f)"
   ]
  }
 ]
}