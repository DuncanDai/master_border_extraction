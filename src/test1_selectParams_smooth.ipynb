{
 "cells": [
  {
   "cell_type": "markdown",
   "metadata": {},
   "source": [
    "Select parameters based on Trackbars\n",
    "- step1 separately\n",
    "- step2 combined together\n",
    "\n",
    "Order: Smoothing -> Histogramm Enhancement -> Sharpenging    \n",
    "\n",
    "Chosen methods: guided filter -> CLAHE -> Homomorphic filter"
   ]
  },
  {
   "cell_type": "code",
   "execution_count": 1,
   "metadata": {},
   "outputs": [],
   "source": [
    "# -*- encoding: utf-8 -*-\n",
    "import sys\n",
    "import cv2\n",
    "import numpy as np\n",
    "%matplotlib inline\n",
    "import matplotlib.pyplot as plt\n",
    "\n",
    "# constant\n",
    "TRACK_MAX_VAL = 100\n",
    "\n",
    "# env: windows\n",
    "PATH_IMAGE = 'D:\\\\My_Data\\\\me_Docs\\\\Masterarbeit\\\\master_border_extraction\\\\images\\\\test1.png'\n",
    "img_bgr_origin = cv2.imread(PATH_IMAGE, cv2.IMREAD_COLOR)  # color image\n",
    "img_gray_origin = cv2.imread(PATH_IMAGE, cv2.IMREAD_GRAYSCALE) # gray image\n",
    "img_rgb = cv2.cvtColor(img_bgr_origin, cv2.COLOR_BGR2RGB)"
   ]
  },
  {
   "cell_type": "code",
   "execution_count": null,
   "metadata": {},
   "outputs": [],
   "source": [
    "print(img_gray_origin.shape)"
   ]
  },
  {
   "cell_type": "markdown",
   "metadata": {},
   "source": [
    "## 1 Smoothing"
   ]
  },
  {
   "cell_type": "code",
   "execution_count": null,
   "metadata": {},
   "outputs": [],
   "source": [
    "### bilateralFilter()\n",
    "img_gray_bilat = cv2.bilateralFilter(img_gray_origin, d=5, sigmaColor=20, sigmaSpace=20)"
   ]
  },
  {
   "cell_type": "code",
   "execution_count": null,
   "metadata": {},
   "outputs": [],
   "source": [
    "### jointBilateralFilter()\n",
    "# gauss filter is used as guided image(joint)\n",
    "img_gauss = cv2.GaussianBlur(img_gray_origin, ksize=(5, 5), sigmaX=1)\n",
    "img_gray_jointBilat = cv2.ximgproc.jointBilateralFilter(img_gauss, img_gray_origin, d=5, sigmaColor=10, sigmaSpace=5)"
   ]
  },
  {
   "cell_type": "code",
   "execution_count": null,
   "metadata": {},
   "outputs": [],
   "source": [
    "### GuidedFilter.filter()\n",
    "img_gray_guided = cv2.ximgproc.guidedFilter(guide=img_rgb, \n",
    "                                            src=img_gray_origin,\n",
    "                                            radius=10,\n",
    "                                            eps=2)"
   ]
  },
  {
   "cell_type": "code",
   "execution_count": null,
   "metadata": {},
   "outputs": [],
   "source": [
    "print(img_gray_bilat.shape)\n",
    "print(img_gray_jointBilat.shape)\n",
    "print(img_gray_guided.shape)"
   ]
  },
  {
   "cell_type": "markdown",
   "metadata": {},
   "source": [
    "Function: trackbar()"
   ]
  },
  {
   "cell_type": "code",
   "execution_count": 2,
   "metadata": {},
   "outputs": [],
   "source": [
    "def set_odd_val(num):\n",
    "    if num % 2 == 0:\n",
    "        num += 1\n",
    "    return num\n",
    "\n",
    "def set_two_decimal(num):\n",
    "    return float(num)/100"
   ]
  },
  {
   "cell_type": "markdown",
   "metadata": {},
   "source": [
    "1 trackbar() for bilateral filter"
   ]
  },
  {
   "cell_type": "code",
   "execution_count": 6,
   "metadata": {},
   "outputs": [
    {
     "name": "stdout",
     "output_type": "stream",
     "text": [
      "-1 51 0.15 28.0\n"
     ]
    }
   ],
   "source": [
    "def update_all(trackPos):\n",
    "    pass\n",
    "\n",
    "cv2.namedWindow('Controls of Smoothing', cv2.WINDOW_NORMAL)\n",
    "cv2.createTrackbar('bilat_d','Controls of Smoothing', 33, TRACK_MAX_VAL, update_all)\n",
    "cv2.createTrackbar('bilat_sigmaColor','Controls of Smoothing', 20, TRACK_MAX_VAL, update_all)\n",
    "cv2.createTrackbar('bilat_sigmaSpace','Controls of Smoothing', 30, TRACK_MAX_VAL, update_all)\n",
    "\n",
    "figure_num = 0\n",
    "while True:\n",
    "    bilat_d = int(cv2.getTrackbarPos('bilat_d','Controls of Smoothing'))\n",
    "    bilat_sigmaColor = float(cv2.getTrackbarPos('bilat_sigmaColor','Controls of Smoothing'))\n",
    "    bilat_sigmaSpace = float(cv2.getTrackbarPos('bilat_sigmaSpace','Controls of Smoothing'))\n",
    "    # adjust the params\n",
    "    bilat_d = set_odd_val(bilat_d)\n",
    "    bilat_sigmaColor = set_two_decimal(bilat_sigmaColor)\n",
    "\n",
    "    # waitfor the user to press keys \n",
    "    k = cv2.waitKey(0) & 0xFF\n",
    "    if k == 32:  # `Space` key\n",
    "        ### bilateralFilter()\n",
    "        img_gray_bilat = cv2.bilateralFilter(img_gray_origin, d=bilat_d, sigmaColor=bilat_sigmaColor, sigmaSpace=bilat_sigmaSpace)\n",
    "\n",
    "        combined = np.hstack((img_gray_origin, img_gray_bilat))\n",
    "        cv2.namedWindow(f'Controls of Smoothing {figure_num + 1}', cv2.WINDOW_NORMAL)\n",
    "        cv2.imshow(f'Controls of Smoothing {figure_num + 1}', combined)\n",
    "        figure_num +=1\n",
    "    elif k == 27:  # `Esc` key\n",
    "        print(-1, bilat_d, bilat_sigmaColor, bilat_sigmaSpace)\n",
    "        break\n",
    "cv2.destroyAllWindows()\n"
   ]
  },
  {
   "cell_type": "markdown",
   "metadata": {},
   "source": [
    "2 trackbar() for joint bilateral filter"
   ]
  },
  {
   "cell_type": "code",
   "execution_count": 7,
   "metadata": {},
   "outputs": [
    {
     "name": "stdout",
     "output_type": "stream",
     "text": [
      "-1 11 7 21 0.82 7\n"
     ]
    }
   ],
   "source": [
    "# trackbar callback fucntion does nothing\n",
    "def update_all(x):\n",
    "    pass\n",
    "\n",
    "cv2.namedWindow('Controls of Smoothing', cv2.WINDOW_NORMAL)\n",
    "\n",
    "cv2.createTrackbar('gauss_ksize','Controls of Smoothing', 33, TRACK_MAX_VAL, update_all)   # !!!parameter restriction: positive & odd\n",
    "cv2.createTrackbar('gauss_sigma','Controls of Smoothing', 7, TRACK_MAX_VAL, update_all)\n",
    "cv2.createTrackbar('jointBilat_d','Controls of Smoothing', 33, TRACK_MAX_VAL, update_all)\n",
    "cv2.createTrackbar('jointBilat_sigmaColor','Controls of Smoothing', 100, TRACK_MAX_VAL, update_all)\n",
    "cv2.createTrackbar('jointBilat_sigmaSpace','Controls of Smoothing', 7, TRACK_MAX_VAL, update_all)\n",
    "\n",
    "figure_num = 0\n",
    "while True:\n",
    "    gauss_ksize = int(cv2.getTrackbarPos('gauss_ksize','Controls of Smoothing'))\n",
    "    gauss_sigma = int(cv2.getTrackbarPos('gauss_sigma','Controls of Smoothing'))\n",
    "    jointBilat_d = int(cv2.getTrackbarPos('jointBilat_d','Controls of Smoothing'))\n",
    "    jointBilat_sigmaColor = int(cv2.getTrackbarPos('jointBilat_sigmaColor','Controls of Smoothing'))\n",
    "    jointBilat_sigmaSpace = int(cv2.getTrackbarPos('jointBilat_sigmaSpace','Controls of Smoothing'))\n",
    "    # adjust the params\n",
    "    gauss_ksize = set_odd_val(gauss_ksize)\n",
    "    jointBilat_d = set_odd_val(jointBilat_d)\n",
    "    jointBilat_sigmaColor = set_two_decimal(jointBilat_sigmaColor)\n",
    "    \n",
    "    # waitfor the user to press keys \n",
    "    k = cv2.waitKey(0) & 0xFF\n",
    "    if k == 32:  # `Space` key\n",
    "        ### jointBilateralFilter()\n",
    "        # gauss filter is used as guided image(joint)\n",
    "        img_gauss = cv2.GaussianBlur(img_gray_origin, ksize=(gauss_ksize, gauss_ksize), sigmaX=gauss_sigma)\n",
    "        img_gray_jointBilat = cv2.ximgproc.jointBilateralFilter(img_gauss, img_gray_origin, d=jointBilat_d, sigmaColor=jointBilat_sigmaColor, sigmaSpace=jointBilat_sigmaSpace)\n",
    "        \n",
    "        combined = np.hstack((img_gray_origin, img_gray_jointBilat))\n",
    "        cv2.namedWindow(f'Controls of Smoothing {figure_num + 1}', cv2.WINDOW_NORMAL)\n",
    "        cv2.imshow(f'Controls of Smoothing {figure_num + 1}', combined)\n",
    "        figure_num +=1\n",
    "    elif k == 27:  # `Esc` key\n",
    "        print(-1, gauss_ksize, gauss_sigma, jointBilat_d, jointBilat_sigmaColor, jointBilat_sigmaSpace)\n",
    "        break\n",
    "cv2.destroyAllWindows()\n"
   ]
  },
  {
   "cell_type": "markdown",
   "metadata": {},
   "source": [
    "3 trackbar() for guided filter"
   ]
  },
  {
   "cell_type": "code",
   "execution_count": 8,
   "metadata": {},
   "outputs": [
    {
     "name": "stdout",
     "output_type": "stream",
     "text": [
      "-1 6 0.36\n"
     ]
    }
   ],
   "source": [
    "# trackbar callback fucntion does nothing\n",
    "def update_all(x):\n",
    "    pass\n",
    "\n",
    "cv2.namedWindow('Controls of Smoothing', cv2.WINDOW_NORMAL)\n",
    "# cv2.resizeWindow(\"Controls of Smoothing\", 300, 300)  \n",
    "\n",
    "cv2.createTrackbar('guide_radius','Controls of Smoothing', 14, TRACK_MAX_VAL, update_all)\n",
    "cv2.createTrackbar('guide_eps','Controls of Smoothing', 20, TRACK_MAX_VAL, update_all)   # square is like `sigmaColor`\n",
    "\n",
    "figure_num = 0\n",
    "while True:\n",
    "    guide_radius = int(cv2.getTrackbarPos('guide_radius','Controls of Smoothing'))\n",
    "    guide_eps = int(cv2.getTrackbarPos('guide_eps','Controls of Smoothing'))\n",
    "    # adjust the params\n",
    "    guide_eps = set_two_decimal(guide_eps)\n",
    "    \n",
    "    # waitfor the user to press keys \n",
    "    k = cv2.waitKey(0) & 0xFF\n",
    "    if k == 32:  # `Space`\n",
    "        ### GuidedFilter.filter()\n",
    "        img_gray_guided = cv2.ximgproc.guidedFilter(guide=img_rgb, \n",
    "                                                src=img_gray_origin,\n",
    "                                                radius=guide_radius,\n",
    "                                                eps=guide_eps)\n",
    "            \n",
    "        combined = np.hstack((img_gray_origin, img_gray_guided))\n",
    "        cv2.namedWindow(f'Controls of Smoothing {figure_num + 1}', cv2.WINDOW_NORMAL)\n",
    "        cv2.imshow(f'Controls of Smoothing {figure_num + 1}', combined)\n",
    "        figure_num +=1\n",
    "    if k == 27:  # `Esc`\n",
    "        print(-1, guide_radius, guide_eps)\n",
    "        break\n",
    "cv2.destroyAllWindows()\n"
   ]
  },
  {
   "cell_type": "markdown",
   "metadata": {},
   "source": [
    "!!!combine all together: not so obvious => It's better see the effect separately"
   ]
  },
  {
   "cell_type": "code",
   "execution_count": null,
   "metadata": {},
   "outputs": [],
   "source": [
    "def update_all(trackPos):\n",
    "    bilat_d = int(cv2.getTrackbarPos('bilat_d','Controls of Smoothing'))\n",
    "    bilat_sigmaColor = int(cv2.getTrackbarPos('bilat_sigmaColor','Controls of Smoothing'))\n",
    "    bilat_sigmaSpace = int(cv2.getTrackbarPos('bilat_sigmaSpace','Controls of Smoothing'))\n",
    "    ### bilateralFilter()\n",
    "    img_gray_bilat = cv2.bilateralFilter(img_gray_origin, d=bilat_d, sigmaColor=bilat_sigmaColor, sigmaSpace=bilat_sigmaSpace)\n",
    "\n",
    "\n",
    "    gauss_ksize = int(cv2.getTrackbarPos('gauss_ksize','Controls of Smoothing'))\n",
    "    if gauss_ksize % 2 == 0:\n",
    "        gauss_ksize = gauss_ksize + 1\n",
    "\n",
    "    gauss_sigma = int(cv2.getTrackbarPos('gauss_sigma','Controls of Smoothing'))\n",
    "    jointBilat_d = int(cv2.getTrackbarPos('jointBilat_d','Controls of Smoothing'))\n",
    "    jointBilat_sigmaColor = int(cv2.getTrackbarPos('jointBilat_sigmaColor','Controls of Smoothing'))\n",
    "    jointBilat_sigmaSpace = int(cv2.getTrackbarPos('jointBilat_sigmaSpace','Controls of Smoothing'))\n",
    "    ### jointBilateralFilter()\n",
    "    # gauss filter is used as guided image(joint)\n",
    "    img_gauss = cv2.GaussianBlur(img_gray_origin, ksize=(gauss_ksize, gauss_ksize), sigmaX=gauss_sigma)\n",
    "    img_gray_jointBilat = cv2.ximgproc.jointBilateralFilter(img_gauss, img_gray_origin, d=jointBilat_d, sigmaColor=jointBilat_sigmaColor, sigmaSpace=jointBilat_sigmaSpace)\n",
    "\n",
    "\n",
    "    guide_radius = int(cv2.getTrackbarPos('guide_radius','Controls of Smoothing'))\n",
    "    guide_eps = int(cv2.getTrackbarPos('guide_eps','Controls of Smoothing'))\n",
    "    ### GuidedFilter.filter()\n",
    "    img_gray_guided = cv2.ximgproc.guidedFilter(guide=img_rgb, \n",
    "                                            src=img_gray_origin,\n",
    "                                            radius=guide_radius,\n",
    "                                            eps=guide_eps)\n",
    "\n",
    "    img_combined = np.hstack((img_gray_origin, img_gray_bilat, img_gray_jointBilat, img_gray_guided))\n",
    "\n",
    "    cv2.imshow('Controls of Smoothing', img_combined)\n",
    "\n",
    "\n",
    "cv2.namedWindow('Controls of Smoothing', cv2.WINDOW_NORMAL)\n",
    "\n",
    "cv2.createTrackbar('bilat_d','Controls of Smoothing', 0, TRACK_MAX_VAL, update_all)\n",
    "cv2.createTrackbar('bilat_sigmaColor','Controls of Smoothing', 0, TRACK_MAX_VAL, update_all)\n",
    "cv2.createTrackbar('bilat_sigmaSpace','Controls of Smoothing', 0, TRACK_MAX_VAL, update_all)\n",
    "\n",
    "cv2.createTrackbar('gauss_ksize','Controls of Smoothing', 0, TRACK_MAX_VAL, update_all)   # !!!parameter restriction: positive & odd\n",
    "cv2.createTrackbar('gauss_sigma','Controls of Smoothing', 0, TRACK_MAX_VAL, update_all)\n",
    "cv2.createTrackbar('jointBilat_d','Controls of Smoothing', 0, TRACK_MAX_VAL, update_all)\n",
    "cv2.createTrackbar('jointBilat_sigmaColor','Controls of Smoothing', 0, TRACK_MAX_VAL, update_all)\n",
    "cv2.createTrackbar('jointBilat_sigmaSpace','Controls of Smoothing', 0, TRACK_MAX_VAL, update_all)\n",
    "\n",
    "cv2.createTrackbar('guide_radius','Controls of Smoothing', 0, TRACK_MAX_VAL, update_all)\n",
    "cv2.createTrackbar('guide_eps','Controls of Smoothing', 0, TRACK_MAX_VAL, update_all)   # square is like `sigmaColor`\n",
    "\n",
    "while True:\n",
    "    # waitfor the user to press keys \n",
    "    k = cv2.waitKey(0) & 0xFF\n",
    "    if k == 32:  # `Space`\n",
    "        ### bilateralFilter()\n",
    "        img_gray_bilat = cv2.bilateralFilter(img_gray_origin, d=bilat_d, sigmaColor=bilat_sigmaColor, sigmaSpace=bilat_sigmaSpace)\n",
    "\n",
    "        img_combined = np.hstack((img_gray_origin, img_gray_bilat))\n",
    "        cv2.imshow('Controls of Smoothing', img_combined)\n",
    "    if k == 27:  # `Esc`\n",
    "        print(-1, bilat_d, bilat_sigmaColor, bilat_sigmaSpace)\n",
    "        break\n",
    "cv2.destroyAllWindows()"
   ]
  }
 ],
 "metadata": {
  "kernelspec": {
   "display_name": "Python 3.9.11 ('kitma': venv)",
   "language": "python",
   "name": "python3"
  },
  "language_info": {
   "codemirror_mode": {
    "name": "ipython",
    "version": 3
   },
   "file_extension": ".py",
   "mimetype": "text/x-python",
   "name": "python",
   "nbconvert_exporter": "python",
   "pygments_lexer": "ipython3",
   "version": "3.9.11"
  },
  "orig_nbformat": 4,
  "vscode": {
   "interpreter": {
    "hash": "463793bc9e1e9a58e8cafb277c4e2d1a0246c1b12e6a20c09fb9ac2fbdfa6020"
   }
  }
 },
 "nbformat": 4,
 "nbformat_minor": 2
}
