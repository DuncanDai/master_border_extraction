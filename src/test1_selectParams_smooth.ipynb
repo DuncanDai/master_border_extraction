{
 "cells": [
  {
   "cell_type": "markdown",
   "metadata": {},
   "source": [
    "Select parameters based on Trackbars\n",
    "- step1 separately\n",
    "- step2 combined together\n",
    "\n",
    "Order: Smoothing -> Histogramm Enhancement -> Sharpenging    \n",
    "\n",
    "Chosen methods: guided filter -> CLAHE -> Homomorphic filter"
   ]
  },
  {
   "cell_type": "code",
   "execution_count": 67,
   "metadata": {},
   "outputs": [],
   "source": [
    "# -*- encoding: utf-8 -*-\n",
    "import sys\n",
    "import cv2\n",
    "import numpy as np\n",
    "%matplotlib inline\n",
    "import matplotlib.pyplot as plt\n",
    "\n",
    "from typing import Tuple\n",
    "\n",
    "# constant\n",
    "TRACK_MAX_VAL = 100\n",
    "# PATH\n",
    "PATH_IMAGE = 'D:\\\\My_Data\\\\me_Docs\\\\Masterarbeit\\\\master_border_extraction\\\\images\\\\test1.png'\n",
    "PATH_SMOOTH_OUTPUT = 'D:\\\\My_Data\\\\me_Docs\\\\Masterarbeit\\\\master_border_extraction\\\\data\\\\output\\\\preprocess_smooth\\\\'\n",
    "\n",
    "# env: windows\n",
    "img_bgr_origin = cv2.imread(PATH_IMAGE, cv2.IMREAD_COLOR)  # color image\n",
    "img_gray_origin = cv2.imread(PATH_IMAGE, cv2.IMREAD_GRAYSCALE) # gray image\n",
    "img_rgb = cv2.cvtColor(img_bgr_origin, cv2.COLOR_BGR2RGB)"
   ]
  },
  {
   "cell_type": "code",
   "execution_count": 4,
   "metadata": {},
   "outputs": [],
   "source": [
    "def set_odd_val(num):\n",
    "    if num % 2 == 0:\n",
    "        num += 1\n",
    "    return num\n",
    "\n",
    "def set_two_decimal(num):\n",
    "    return float(num)/100"
   ]
  },
  {
   "cell_type": "code",
   "execution_count": 2,
   "metadata": {},
   "outputs": [
    {
     "name": "stdout",
     "output_type": "stream",
     "text": [
      "(2064, 3088)\n"
     ]
    }
   ],
   "source": [
    "print(img_gray_origin.shape)"
   ]
  },
  {
   "cell_type": "markdown",
   "metadata": {},
   "source": [
    "## 1 Smoothing"
   ]
  },
  {
   "cell_type": "code",
   "execution_count": 41,
   "metadata": {},
   "outputs": [
    {
     "name": "stdout",
     "output_type": "stream",
     "text": [
      "([1, 2], [2, 3], [3, 4])\n",
      "[(1, 2, 3), (2, 3, 4)]\n"
     ]
    }
   ],
   "source": [
    "### test for `*` and `zip()`\n",
    "def test(*params):\n",
    "    print(params)\n",
    "    res = zip(*params)\n",
    "    print(list(res))\n",
    "\n",
    "a = [1, 2]\n",
    "b = [2, 3]\n",
    "c = [3, 4]\n",
    "test(a, b, c)"
   ]
  },
  {
   "cell_type": "code",
   "execution_count": 69,
   "metadata": {},
   "outputs": [
    {
     "name": "stdout",
     "output_type": "stream",
     "text": [
      "[(1, 4), (1, 5), (1, 6), (1, 7), (2, 4), (2, 5), (2, 6), (2, 7), (3, 4), (3, 5), (3, 6), (3, 7)] 2\n"
     ]
    }
   ],
   "source": [
    "# meshgrid: N-D => extend to 1-D => combined to tuple  \n",
    "def combine_grid_params(*param_lists) -> Tuple[list[tuple], int]:\n",
    "    num_params = len(param_lists)\n",
    "\n",
    "    param_grids = np.meshgrid(*param_lists, indexing='ij')\n",
    "    param_flats = map(np.ndarray.flatten, param_grids)\n",
    "    param_combine = list(zip(*param_flats))\n",
    "    return param_combine, num_params\n",
    "\n",
    "# example:\n",
    "x = [1, 2, 3]\n",
    "y = [4, 5, 6, 7]\n",
    "res, cnt = combine_grid_params(x, y)\n",
    "print(res, cnt)"
   ]
  },
  {
   "cell_type": "markdown",
   "metadata": {},
   "source": [
    "Output for different sets of params"
   ]
  },
  {
   "cell_type": "markdown",
   "metadata": {},
   "source": [
    "1 bilat filter"
   ]
  },
  {
   "cell_type": "code",
   "execution_count": 70,
   "metadata": {},
   "outputs": [
    {
     "data": {
      "text/plain": [
       "True"
      ]
     },
     "execution_count": 70,
     "metadata": {},
     "output_type": "execute_result"
    }
   ],
   "source": [
    "bilat_d,bilat_sigmaColor,bilat_sigmaSpace  = 33, 0.2, 30\n",
    "img_gray_bilat = cv2.bilateralFilter(img_gray_origin, d=bilat_d, sigmaColor=bilat_sigmaColor, sigmaSpace=bilat_sigmaSpace)\n",
    "cv2.imwrite(PATH_SMOOTH_OUTPUT+f'd={bilat_d}, sigmaColor={bilat_sigmaColor}, sigmaSpace={bilat_sigmaSpace}.png', img_gray_bilat)"
   ]
  },
  {
   "cell_type": "code",
   "execution_count": 71,
   "metadata": {},
   "outputs": [],
   "source": [
    "### bilateralFilter()\n",
    "img_gray_bilat = cv2.bilateralFilter(img_gray_origin, d=5, sigmaColor=20, sigmaSpace=20)\n",
    "\n",
    "### params gridsearch => output: `PATH_SMOOTH_OUTPUT`\n",
    "bilat_d = np.array([3, 5, 19, 33, 47], dtype=np.uint8)\n",
    "bilat_sigmaColor = np.linspace(0.1, 0.5, 5)\n",
    "bilat_sigmaSpace = np.linspace(10, 50, 5)\n",
    "\n",
    "params, cnt = combine_grid_params(bilat_d, bilat_sigmaColor, bilat_sigmaSpace)\n",
    "# check params number:\n",
    "if cnt != 3:\n",
    "    raise ValueError\n",
    "\n",
    "for param in params:\n",
    "    img_gray_bilat = cv2.bilateralFilter(img_gray_origin, d=param[0], sigmaColor=param[1], sigmaSpace=param[2])\n",
    "    cv2.imwrite(PATH_SMOOTH_OUTPUT+f'bilat-d={param[0]} sigmaColor={param[1]} sigmaSpace={param[2]}.png', img_gray_bilat)"
   ]
  },
  {
   "cell_type": "markdown",
   "metadata": {},
   "source": [
    "2 joinBilat filter"
   ]
  },
  {
   "cell_type": "code",
   "execution_count": 5,
   "metadata": {},
   "outputs": [],
   "source": [
    "### jointBilateralFilter()\n",
    "# gauss filter is used as guided image(joint)\n",
    "img_gauss = cv2.GaussianBlur(img_gray_origin, ksize=(5, 5), sigmaX=1)\n",
    "img_gray_jointBilat = cv2.ximgproc.jointBilateralFilter(img_gauss, img_gray_origin, d=5, sigmaColor=10, sigmaSpace=5)\n",
    "\n"
   ]
  },
  {
   "cell_type": "code",
   "execution_count": null,
   "metadata": {},
   "outputs": [],
   "source": []
  },
  {
   "cell_type": "markdown",
   "metadata": {},
   "source": [
    "3 guided filter"
   ]
  },
  {
   "cell_type": "code",
   "execution_count": 6,
   "metadata": {},
   "outputs": [],
   "source": [
    "### GuidedFilter.filter()\n",
    "img_gray_guided = cv2.ximgproc.guidedFilter(guide=img_rgb, \n",
    "                                            src=img_gray_origin,\n",
    "                                            radius=10,\n",
    "                                            eps=2)"
   ]
  },
  {
   "cell_type": "code",
   "execution_count": 7,
   "metadata": {},
   "outputs": [
    {
     "name": "stdout",
     "output_type": "stream",
     "text": [
      "(2064, 3088)\n",
      "(2064, 3088)\n",
      "(2064, 3088)\n"
     ]
    }
   ],
   "source": [
    "print(img_gray_bilat.shape)\n",
    "print(img_gray_jointBilat.shape)\n",
    "print(img_gray_guided.shape)"
   ]
  },
  {
   "cell_type": "markdown",
   "metadata": {},
   "source": [
    "Function: trackbar()"
   ]
  },
  {
   "cell_type": "markdown",
   "metadata": {},
   "source": [
    "1 trackbar() for bilateral filter"
   ]
  },
  {
   "cell_type": "code",
   "execution_count": 8,
   "metadata": {},
   "outputs": [],
   "source": [
    "def update_all(trackPos):\n",
    "    pass\n",
    "\n",
    "cv2.namedWindow('Controls of Smoothing', cv2.WINDOW_NORMAL)\n",
    "cv2.createTrackbar('bilat_d','Controls of Smoothing', 33, TRACK_MAX_VAL, update_all)\n",
    "cv2.createTrackbar('bilat_sigmaColor','Controls of Smoothing', 20, TRACK_MAX_VAL, update_all)\n",
    "cv2.createTrackbar('bilat_sigmaSpace','Controls of Smoothing', 30, TRACK_MAX_VAL, update_all)\n",
    "\n",
    "figure_num = 0\n",
    "while True:\n",
    "    bilat_d = int(cv2.getTrackbarPos('bilat_d','Controls of Smoothing'))\n",
    "    bilat_sigmaColor = float(cv2.getTrackbarPos('bilat_sigmaColor','Controls of Smoothing'))\n",
    "    bilat_sigmaSpace = float(cv2.getTrackbarPos('bilat_sigmaSpace','Controls of Smoothing'))\n",
    "    # adjust the params\n",
    "    bilat_d = set_odd_val(bilat_d)\n",
    "    bilat_sigmaColor = set_two_decimal(bilat_sigmaColor)\n",
    "\n",
    "    # waitfor the user to press keys \n",
    "    k = cv2.waitKey(0) & 0xFF\n",
    "    if k == 32:  # `Space` key\n",
    "        ### bilateralFilter()\n",
    "        img_gray_bilat = cv2.bilateralFilter(img_gray_origin, d=bilat_d, sigmaColor=bilat_sigmaColor, sigmaSpace=bilat_sigmaSpace)\n",
    "\n",
    "        combined = np.hstack((img_gray_origin, img_gray_bilat))\n",
    "        cv2.namedWindow(f'Smoothing {figure_num + 1}: d={bilat_d}, sigmaColor={bilat_sigmaColor}, sigmaSpace={bilat_sigmaSpace}', cv2.WINDOW_NORMAL)\n",
    "        cv2.imshow(f'Smoothing {figure_num + 1}: d={bilat_d}, sigmaColor={bilat_sigmaColor}, sigmaSpace={bilat_sigmaSpace}', combined)\n",
    "        figure_num +=1\n",
    "    elif k == 27:  # `Esc` key\n",
    "        break\n",
    "cv2.destroyAllWindows()\n"
   ]
  },
  {
   "cell_type": "markdown",
   "metadata": {},
   "source": [
    "2 trackbar() for joint bilateral filter"
   ]
  },
  {
   "cell_type": "code",
   "execution_count": 10,
   "metadata": {},
   "outputs": [],
   "source": [
    "# trackbar callback fucntion does nothing\n",
    "def update_all(x):\n",
    "    pass\n",
    "\n",
    "cv2.namedWindow('Controls of Smoothing', cv2.WINDOW_NORMAL)\n",
    "\n",
    "cv2.createTrackbar('gauss_ksize','Controls of Smoothing', 33, TRACK_MAX_VAL, update_all)   # !!!parameter restriction: positive & odd\n",
    "cv2.createTrackbar('gauss_sigma','Controls of Smoothing', 7, TRACK_MAX_VAL, update_all)\n",
    "cv2.createTrackbar('jointBilat_d','Controls of Smoothing', 33, TRACK_MAX_VAL, update_all)\n",
    "cv2.createTrackbar('jointBilat_sigmaColor','Controls of Smoothing', 100, TRACK_MAX_VAL, update_all)\n",
    "cv2.createTrackbar('jointBilat_sigmaSpace','Controls of Smoothing', 7, TRACK_MAX_VAL, update_all)\n",
    "\n",
    "figure_num = 0\n",
    "while True:\n",
    "    gauss_ksize = int(cv2.getTrackbarPos('gauss_ksize','Controls of Smoothing'))\n",
    "    gauss_sigma = int(cv2.getTrackbarPos('gauss_sigma','Controls of Smoothing'))\n",
    "    jointBilat_d = int(cv2.getTrackbarPos('jointBilat_d','Controls of Smoothing'))\n",
    "    jointBilat_sigmaColor = int(cv2.getTrackbarPos('jointBilat_sigmaColor','Controls of Smoothing'))\n",
    "    jointBilat_sigmaSpace = int(cv2.getTrackbarPos('jointBilat_sigmaSpace','Controls of Smoothing'))\n",
    "    # adjust the params\n",
    "    gauss_ksize = set_odd_val(gauss_ksize)\n",
    "    jointBilat_d = set_odd_val(jointBilat_d)\n",
    "    jointBilat_sigmaColor = set_two_decimal(jointBilat_sigmaColor)\n",
    "    \n",
    "    # waitfor the user to press keys \n",
    "    k = cv2.waitKey(0) & 0xFF\n",
    "    if k == 32:  # `Space` key\n",
    "        ### jointBilateralFilter()\n",
    "        # gauss filter is used as guided image(joint)\n",
    "        img_gauss = cv2.GaussianBlur(img_gray_origin, ksize=(gauss_ksize, gauss_ksize), sigmaX=gauss_sigma)\n",
    "        img_gray_jointBilat = cv2.ximgproc.jointBilateralFilter(img_gauss, img_gray_origin, d=jointBilat_d, sigmaColor=jointBilat_sigmaColor, sigmaSpace=jointBilat_sigmaSpace)\n",
    "        \n",
    "        combined = np.hstack((img_gray_origin, img_gray_jointBilat))\n",
    "        cv2.namedWindow(f'Smoothing {figure_num + 1}, GaussSize={gauss_ksize, gauss_ksize}, GaussSigma={gauss_sigma}, d={jointBilat_d}, sigmaColor={jointBilat_sigmaColor}, sigmaSpace={jointBilat_sigmaSpace}', cv2.WINDOW_NORMAL)\n",
    "        cv2.imshow(f'Smoothing {figure_num + 1}, GaussSize={gauss_ksize, gauss_ksize}, GaussSigma={gauss_sigma}, d={jointBilat_d}, sigmaColor={jointBilat_sigmaColor}, sigmaSpace={jointBilat_sigmaSpace}', combined)\n",
    "        figure_num +=1\n",
    "    elif k == 27:  # `Esc` key\n",
    "        break\n",
    "cv2.destroyAllWindows()\n"
   ]
  },
  {
   "cell_type": "markdown",
   "metadata": {},
   "source": [
    "3 trackbar() for guided filter"
   ]
  },
  {
   "cell_type": "code",
   "execution_count": 11,
   "metadata": {},
   "outputs": [],
   "source": [
    "# trackbar callback fucntion does nothing\n",
    "def update_all(x):\n",
    "    pass\n",
    "\n",
    "cv2.namedWindow('Controls of Smoothing', cv2.WINDOW_NORMAL)\n",
    "# cv2.resizeWindow(\"Controls of Smoothing\", 300, 300)  \n",
    "\n",
    "cv2.createTrackbar('guide_radius','Controls of Smoothing', 14, TRACK_MAX_VAL, update_all)\n",
    "cv2.createTrackbar('guide_eps','Controls of Smoothing', 20, TRACK_MAX_VAL, update_all)   # square is like `sigmaColor`\n",
    "\n",
    "figure_num = 0\n",
    "while True:\n",
    "    guide_radius = int(cv2.getTrackbarPos('guide_radius','Controls of Smoothing'))\n",
    "    guide_eps = int(cv2.getTrackbarPos('guide_eps','Controls of Smoothing'))\n",
    "    # adjust the params\n",
    "    guide_eps = set_two_decimal(guide_eps)\n",
    "    \n",
    "    # waitfor the user to press keys \n",
    "    k = cv2.waitKey(0) & 0xFF\n",
    "    if k == 32:  # `Space`\n",
    "        ### GuidedFilter.filter()\n",
    "        img_gray_guided = cv2.ximgproc.guidedFilter(guide=img_rgb, \n",
    "                                                src=img_gray_origin,\n",
    "                                                radius=guide_radius,\n",
    "                                                eps=guide_eps)\n",
    "            \n",
    "        combined = np.hstack((img_gray_origin, img_gray_guided))\n",
    "        cv2.namedWindow(f'Smoothing {figure_num + 1}, radius={guide_radius}, eps={guide_eps}', cv2.WINDOW_NORMAL)\n",
    "        cv2.imshow(f'Smoothing {figure_num + 1}, radius={guide_radius}, eps={guide_eps}', combined)\n",
    "        figure_num +=1\n",
    "    elif k == 27:  # `Esc`\n",
    "        break\n",
    "cv2.destroyAllWindows()\n"
   ]
  },
  {
   "cell_type": "markdown",
   "metadata": {},
   "source": [
    "!!!combine all together: not so obvious => It's better see the effect separately"
   ]
  },
  {
   "cell_type": "code",
   "execution_count": null,
   "metadata": {},
   "outputs": [],
   "source": [
    "def update_all(trackPos):\n",
    "    bilat_d = int(cv2.getTrackbarPos('bilat_d','Controls of Smoothing'))\n",
    "    bilat_sigmaColor = int(cv2.getTrackbarPos('bilat_sigmaColor','Controls of Smoothing'))\n",
    "    bilat_sigmaSpace = int(cv2.getTrackbarPos('bilat_sigmaSpace','Controls of Smoothing'))\n",
    "    ### bilateralFilter()\n",
    "    img_gray_bilat = cv2.bilateralFilter(img_gray_origin, d=bilat_d, sigmaColor=bilat_sigmaColor, sigmaSpace=bilat_sigmaSpace)\n",
    "\n",
    "\n",
    "    gauss_ksize = int(cv2.getTrackbarPos('gauss_ksize','Controls of Smoothing'))\n",
    "    if gauss_ksize % 2 == 0:\n",
    "        gauss_ksize = gauss_ksize + 1\n",
    "\n",
    "    gauss_sigma = int(cv2.getTrackbarPos('gauss_sigma','Controls of Smoothing'))\n",
    "    jointBilat_d = int(cv2.getTrackbarPos('jointBilat_d','Controls of Smoothing'))\n",
    "    jointBilat_sigmaColor = int(cv2.getTrackbarPos('jointBilat_sigmaColor','Controls of Smoothing'))\n",
    "    jointBilat_sigmaSpace = int(cv2.getTrackbarPos('jointBilat_sigmaSpace','Controls of Smoothing'))\n",
    "    ### jointBilateralFilter()\n",
    "    # gauss filter is used as guided image(joint)\n",
    "    img_gauss = cv2.GaussianBlur(img_gray_origin, ksize=(gauss_ksize, gauss_ksize), sigmaX=gauss_sigma)\n",
    "    img_gray_jointBilat = cv2.ximgproc.jointBilateralFilter(img_gauss, img_gray_origin, d=jointBilat_d, sigmaColor=jointBilat_sigmaColor, sigmaSpace=jointBilat_sigmaSpace)\n",
    "\n",
    "\n",
    "    guide_radius = int(cv2.getTrackbarPos('guide_radius','Controls of Smoothing'))\n",
    "    guide_eps = int(cv2.getTrackbarPos('guide_eps','Controls of Smoothing'))\n",
    "    ### GuidedFilter.filter()\n",
    "    img_gray_guided = cv2.ximgproc.guidedFilter(guide=img_rgb, \n",
    "                                            src=img_gray_origin,\n",
    "                                            radius=guide_radius,\n",
    "                                            eps=guide_eps)\n",
    "\n",
    "    img_combined = np.hstack((img_gray_origin, img_gray_bilat, img_gray_jointBilat, img_gray_guided))\n",
    "\n",
    "    cv2.imshow('Controls of Smoothing', img_combined)\n",
    "\n",
    "\n",
    "cv2.namedWindow('Controls of Smoothing', cv2.WINDOW_NORMAL)\n",
    "\n",
    "cv2.createTrackbar('bilat_d','Controls of Smoothing', 0, TRACK_MAX_VAL, update_all)\n",
    "cv2.createTrackbar('bilat_sigmaColor','Controls of Smoothing', 0, TRACK_MAX_VAL, update_all)\n",
    "cv2.createTrackbar('bilat_sigmaSpace','Controls of Smoothing', 0, TRACK_MAX_VAL, update_all)\n",
    "\n",
    "cv2.createTrackbar('gauss_ksize','Controls of Smoothing', 0, TRACK_MAX_VAL, update_all)   # !!!parameter restriction: positive & odd\n",
    "cv2.createTrackbar('gauss_sigma','Controls of Smoothing', 0, TRACK_MAX_VAL, update_all)\n",
    "cv2.createTrackbar('jointBilat_d','Controls of Smoothing', 0, TRACK_MAX_VAL, update_all)\n",
    "cv2.createTrackbar('jointBilat_sigmaColor','Controls of Smoothing', 0, TRACK_MAX_VAL, update_all)\n",
    "cv2.createTrackbar('jointBilat_sigmaSpace','Controls of Smoothing', 0, TRACK_MAX_VAL, update_all)\n",
    "\n",
    "cv2.createTrackbar('guide_radius','Controls of Smoothing', 0, TRACK_MAX_VAL, update_all)\n",
    "cv2.createTrackbar('guide_eps','Controls of Smoothing', 0, TRACK_MAX_VAL, update_all)   # square is like `sigmaColor`\n",
    "\n",
    "while True:\n",
    "    # waitfor the user to press keys \n",
    "    k = cv2.waitKey(0) & 0xFF\n",
    "    if k == 32:  # `Space`\n",
    "        ### bilateralFilter()\n",
    "        img_gray_bilat = cv2.bilateralFilter(img_gray_origin, d=bilat_d, sigmaColor=bilat_sigmaColor, sigmaSpace=bilat_sigmaSpace)\n",
    "\n",
    "        img_combined = np.hstack((img_gray_origin, img_gray_bilat))\n",
    "        cv2.imshow('Controls of Smoothing', img_combined)\n",
    "    if k == 27:  # `Esc`\n",
    "        print(-1, bilat_d, bilat_sigmaColor, bilat_sigmaSpace)\n",
    "        break\n",
    "cv2.destroyAllWindows()"
   ]
  }
 ],
 "metadata": {
  "kernelspec": {
   "display_name": "Python 3.9.11 ('kitma': venv)",
   "language": "python",
   "name": "python3"
  },
  "language_info": {
   "codemirror_mode": {
    "name": "ipython",
    "version": 3
   },
   "file_extension": ".py",
   "mimetype": "text/x-python",
   "name": "python",
   "nbconvert_exporter": "python",
   "pygments_lexer": "ipython3",
   "version": "3.9.11"
  },
  "orig_nbformat": 4,
  "vscode": {
   "interpreter": {
    "hash": "463793bc9e1e9a58e8cafb277c4e2d1a0246c1b12e6a20c09fb9ac2fbdfa6020"
   }
  }
 },
 "nbformat": 4,
 "nbformat_minor": 2
}
