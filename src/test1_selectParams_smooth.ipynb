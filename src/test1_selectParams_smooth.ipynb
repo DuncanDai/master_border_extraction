{
 "cells": [
  {
   "cell_type": "markdown",
   "metadata": {},
   "source": [
    "# Conclusion for Smoothing\n",
    "Select parameters for smoothing\n",
    "- 1 based on Trackbars => observe the results directly\n",
    "- 2 output the filtered images\n",
    "- 3 output the difference between original and filtered images\n",
    "\n",
    "Final chosen method: guided filter"
   ]
  },
  {
   "cell_type": "code",
   "execution_count": 17,
   "metadata": {},
   "outputs": [],
   "source": [
    "# -*- encoding: utf-8 -*-\n",
    "import sys\n",
    "import cv2\n",
    "import numpy as np\n",
    "%matplotlib inline\n",
    "import matplotlib.pyplot as plt\n",
    "\n",
    "from typing import Tuple\n",
    "\n",
    "# constant\n",
    "TRACK_MAX_VAL = 100\n",
    "# paths\n",
    "PATH_IMAGE = 'D:\\\\My_Data\\\\me_Docs\\\\Masterarbeit\\\\master_border_extraction\\\\images\\\\test1.png'\n",
    "PATH_OUTPUT_SMOOTH = 'D:\\\\My_Data\\\\me_Docs\\\\Masterarbeit\\\\master_border_extraction\\\\data\\\\output\\\\'\n",
    "PATH_OUTPUT_SMOOTH_SMOOTH = PATH_OUTPUT_SMOOTH + 'preprocess_smooth\\\\'\n",
    "\n",
    "# env: windows\n",
    "img_bgr_origin = cv2.imread(PATH_IMAGE, cv2.IMREAD_COLOR)  # color image\n",
    "img_gray_origin = cv2.imread(PATH_IMAGE, cv2.IMREAD_GRAYSCALE) # gray image\n",
    "img_rgb = cv2.cvtColor(img_bgr_origin, cv2.COLOR_BGR2RGB)"
   ]
  },
  {
   "cell_type": "code",
   "execution_count": 2,
   "metadata": {},
   "outputs": [],
   "source": [
    "def set_odd_val(num):\n",
    "    if num % 2 == 0:\n",
    "        num += 1\n",
    "    return num\n",
    "\n",
    "def set_two_decimal(num):\n",
    "    return float(num)/100"
   ]
  },
  {
   "cell_type": "code",
   "execution_count": 3,
   "metadata": {},
   "outputs": [
    {
     "name": "stdout",
     "output_type": "stream",
     "text": [
      "(2064, 3088)\n"
     ]
    }
   ],
   "source": [
    "print(img_gray_origin.shape)\n",
    "\n",
    "### the same shape as `img_gray_origin`\n",
    "print(img_gray_bilat.shape)\n",
    "print(img_gray_jointBilat.shape)\n",
    "print(img_gray_guided.shape)"
   ]
  },
  {
   "cell_type": "code",
   "execution_count": 4,
   "metadata": {},
   "outputs": [
    {
     "name": "stdout",
     "output_type": "stream",
     "text": [
      "([1, 2], [2, 3], [3, 4])\n",
      "[(1, 2, 3), (2, 3, 4)]\n"
     ]
    }
   ],
   "source": [
    "### test for `*` and `zip()`\n",
    "def test(*params):\n",
    "    print(params)\n",
    "    res = zip(*params)\n",
    "    print(list(res))\n",
    "\n",
    "a = [1, 2]\n",
    "b = [2, 3]\n",
    "c = [3, 4]\n",
    "test(a, b, c)"
   ]
  },
  {
   "cell_type": "code",
   "execution_count": 10,
   "metadata": {},
   "outputs": [
    {
     "name": "stdout",
     "output_type": "stream",
     "text": [
      "[(1, 4), (1, 5), (1, 6), (1, 7), (2, 4), (2, 5), (2, 6), (2, 7), (3, 4), (3, 5), (3, 6), (3, 7)] 2\n"
     ]
    }
   ],
   "source": [
    "# meshgrid: N-D => extend to 1-D => combined to tuple  \n",
    "def combine_grid_params(*param_lists) -> Tuple[list[tuple], int]:\n",
    "    num_params = len(param_lists)\n",
    "\n",
    "    param_grids = np.meshgrid(*param_lists, indexing='ij')\n",
    "    param_flats = map(np.ndarray.flatten, param_grids)\n",
    "    param_combine = list(zip(*param_flats))\n",
    "    return param_combine, num_params\n",
    "\n",
    "# example:\n",
    "x = [1, 2, 3]\n",
    "y = [4, 5, 6, 7]\n",
    "res, cnt = combine_grid_params(x, y)\n",
    "print(res, cnt)"
   ]
  },
  {
   "cell_type": "markdown",
   "metadata": {},
   "source": [
    "Output for different sets of params"
   ]
  },
  {
   "cell_type": "markdown",
   "metadata": {},
   "source": [
    "1 bilat filter"
   ]
  },
  {
   "cell_type": "code",
   "execution_count": null,
   "metadata": {},
   "outputs": [],
   "source": [
    "### test for one set of parameter \n",
    "bilat_d,bilat_sigmaColor,bilat_sigmaSpace  = 33, 0.2, 30\n",
    "img_gray_bilat = cv2.bilateralFilter(img_gray_origin, d=bilat_d, sigmaColor=bilat_sigmaColor, sigmaSpace=bilat_sigmaSpace)\n",
    "cv2.imwrite(PATH_OUTPUT_SMOOTH+f'd={bilat_d}, sigmaColor={bilat_sigmaColor}, sigmaSpace={bilat_sigmaSpace}.png', img_gray_bilat)"
   ]
  },
  {
   "cell_type": "code",
   "execution_count": null,
   "metadata": {},
   "outputs": [],
   "source": [
    "### params gridsearch\n",
    "bilat_d = np.array([3, 5, 19, 33, 47], dtype=np.uint8)\n",
    "bilat_sigmaColor = np.linspace(0.1, 0.5, 5)\n",
    "bilat_sigmaSpace = np.linspace(10, 50, 5)\n",
    "\n",
    "params, cnt = combine_grid_params(bilat_d, bilat_sigmaColor, bilat_sigmaSpace)\n",
    "# check params number:\n",
    "if cnt != 3:\n",
    "    raise ValueError\n",
    "\n",
    "### output\n",
    "for param in params:\n",
    "    img_gray_bilat = cv2.bilateralFilter(img_gray_origin, d=param[0], sigmaColor=param[1], sigmaSpace=param[2])\n",
    "    cv2.imwrite(PATH_OUTPUT_SMOOTH+f'bilat-d={param[0]} sigmaColor={param[1]} sigmaSpace={param[2]}.png', img_gray_bilat)"
   ]
  },
  {
   "cell_type": "markdown",
   "metadata": {},
   "source": [
    "2 joinBilat filter"
   ]
  },
  {
   "cell_type": "code",
   "execution_count": null,
   "metadata": {},
   "outputs": [],
   "source": [
    "### test for one set of parameter \n",
    "# gauss filter is used as guided image(joint)\n",
    "img_gauss = cv2.GaussianBlur(img_gray_origin, ksize=(5, 5), sigmaX=1)\n",
    "img_gray_jointBilat = cv2.ximgproc.jointBilateralFilter(img_gauss, img_gray_origin, d=5, sigmaColor=10, sigmaSpace=5)\n",
    "\n",
    "cv2.imwrite(PATH_OUTPUT_SMOOTH+f'jointBilat\\\\ksize=5 sigmaX=1 d=5 sigmaColor=10 sigmaSpace=5.png', img_gray_jointBilat)"
   ]
  },
  {
   "cell_type": "code",
   "execution_count": null,
   "metadata": {},
   "outputs": [],
   "source": [
    "### params gridsearch\n",
    "ksize = np.array([3, 5, 7, 9])\n",
    "sigmaX = np.linspace(0.1, 3.0, 3)\n",
    "jointBilat_d = np.array([3, 5, 19, 33], dtype=np.uint8)\n",
    "jointBilat_sigmaColor = np.linspace(0.1, 0.5, 2)\n",
    "jointBilat_sigmaSpace = np.linspace(10, 50, 2)\n",
    "\n",
    "params, cnt = combine_grid_params(ksize, sigmaX, jointBilat_d, jointBilat_sigmaColor, jointBilat_sigmaSpace)\n",
    "# check params number:\n",
    "if cnt != 5:\n",
    "    raise ValueError\n",
    "\n",
    "### output\n",
    "for param in params:\n",
    "    img_gauss = cv2.GaussianBlur(img_gray_origin, ksize=(param[0], param[0]), sigmaX=param[1])\n",
    "    img_gray_jointBilat = cv2.ximgproc.jointBilateralFilter(img_gauss, img_gray_origin, d=param[2], sigmaColor=param[3], sigmaSpace=param[4])\n",
    "\n",
    "    cv2.imwrite(PATH_OUTPUT_SMOOTH+f'jointBilat\\\\ksize={param[0]} sigmaX={param[1]} d={param[2]} sigmaColor={param[3]} sigmaSpace={param[4]}.png', img_gray_jointBilat)"
   ]
  },
  {
   "cell_type": "markdown",
   "metadata": {},
   "source": [
    "3 guided filter"
   ]
  },
  {
   "cell_type": "markdown",
   "metadata": {},
   "source": [
    "select guided image => final decision: use original grayscale"
   ]
  },
  {
   "cell_type": "code",
   "execution_count": 28,
   "metadata": {},
   "outputs": [],
   "source": [
    "### guided image from edge detector\n",
    "# img_ScharrXY = cv2.imread(PATH_OUTPUT+'ScharXY for guided.png', cv2.IMREAD_GRAYSCALE)\n",
    "img_harrLoG = cv2.imread(PATH_OUTPUT+'Marr for guided.png', cv2.IMREAD_GRAYSCALE)\n",
    "\n",
    "cv2.namedWindow('show diff', cv2.WINDOW_NORMAL)\n",
    "cv2.imshow('show diff', img_harrLoG)\n",
    "cv2.waitKey()\n",
    "cv2.destroyAllWindows()"
   ]
  },
  {
   "cell_type": "code",
   "execution_count": 24,
   "metadata": {},
   "outputs": [
    {
     "data": {
      "text/plain": [
       "True"
      ]
     },
     "execution_count": 24,
     "metadata": {},
     "output_type": "execute_result"
    }
   ],
   "source": [
    "### test for one set of parameter \n",
    "img_gray_guided = cv2.ximgproc.guidedFilter(guide=img_gray_origin, \n",
    "                                            src=img_gray_origin,\n",
    "                                            radius=10,\n",
    "                                            eps=0.2)\n",
    "                                        \n",
    "cv2.imwrite(PATH_OUTPUT+f'guided radius=10 eps=0.5.png', img_gray_guided)"
   ]
  },
  {
   "cell_type": "code",
   "execution_count": 27,
   "metadata": {},
   "outputs": [],
   "source": [
    "### params gridsearch \n",
    "radius = np.array([2, 3, 4, 5, 9, 13], dtype=np.uint8)\n",
    "eps = np.linspace(0.1, 2.0, 8)\n",
    "\n",
    "params, cnt = combine_grid_params(radius, eps)\n",
    "# check params number:\n",
    "if cnt != 2:\n",
    "    raise ValueError\n",
    "\n",
    "### output\n",
    "for param in params:\n",
    "    img_gray_guided = cv2.ximgproc.guidedFilter(guide=img_gray_origin, \n",
    "                                            src=img_gray_origin,\n",
    "                                            radius=param[0],\n",
    "                                            eps=param[1])\n",
    "    cv2.imwrite(PATH_OUTPUT_SMOOTH+f'guided\\\\grayscale radius={param[0]} eps={param[1]}.png', img_gray_guided)"
   ]
  },
  {
   "cell_type": "markdown",
   "metadata": {},
   "source": [
    "!Check: difference to the original grayscale"
   ]
  },
  {
   "cell_type": "markdown",
   "metadata": {},
   "source": [
    "Conclusion: there exist the difference (smoothing is low pass filter => difference shows the high frequency infomation)"
   ]
  },
  {
   "cell_type": "code",
   "execution_count": null,
   "metadata": {},
   "outputs": [],
   "source": [
    "import os\n",
    "PATH_FILTER_IMG = PATH_OUTPUT_SMOOTH + f'jointBilat\\\\'   # 3 directories: bilat, jointBilat, guided\n",
    "files = [f for f in os.listdir(PATH_FILTER_IMG) if '.png' in f]\n",
    "\n",
    "flag_exit = False\n",
    "for file in files:\n",
    "    if flag_exit:\n",
    "        break\n",
    "    img = cv2.imread(PATH_FILTER_IMG+file, cv2.IMREAD_GRAYSCALE)\n",
    "    diff = cv2.absdiff(img, img_gray_origin)\n",
    "    \n",
    "    ### output directly \n",
    "    cv2.imwrite(PATH_FILTER_IMG+'diff '+file, diff)\n",
    "#     ### output manually\n",
    "#     cv2.namedWindow('show diff', cv2.WINDOW_NORMAL)\n",
    "#     while True:\n",
    "#         # waitfor the user to press keys \n",
    "#         k = cv2.waitKey() & 0xFF\n",
    "#         if k == 32:  # `Space` key\n",
    "#             cv2.imshow('show diff', diff)\n",
    "#             cv2.imwrite(PATH_FILTER_IMG+'diff '+file, diff)\n",
    "#             break\n",
    "#         elif k == 27:  # `Esc` key\n",
    "#             flag_exit = True\n",
    "#             break\n",
    "        \n",
    "# cv2.destroyAllWindows()"
   ]
  },
  {
   "cell_type": "markdown",
   "metadata": {},
   "source": [
    "Discover: the difference is small, but because of negative value (`image - origin = -1`) => it shows unexpectly a good image shows the braid line"
   ]
  },
  {
   "cell_type": "code",
   "execution_count": null,
   "metadata": {},
   "outputs": [],
   "source": [
    "PATH_FILTER_IMG = PATH_OUTPUT_SMOOTH + f'bilat\\\\'\n",
    "img = cv2.imread(PATH_FILTER_IMG+'diff bilat-d=3 sigmaColor=0.30000000000000004 sigmaSpace=10.0.png', cv2.IMREAD_GRAYSCALE)\n",
    "cv2.namedWindow('show diff', cv2.WINDOW_NORMAL)\n",
    "cv2.imshow('show diff', img)\n",
    "cv2.waitKey()\n",
    "cv2.destroyAllWindows()"
   ]
  },
  {
   "cell_type": "code",
   "execution_count": null,
   "metadata": {},
   "outputs": [],
   "source": [
    "img"
   ]
  },
  {
   "cell_type": "code",
   "execution_count": null,
   "metadata": {},
   "outputs": [],
   "source": [
    "# sum is 6373632 == width * height\n",
    "np.sum(img==0) # output: 3517403\n",
    "np.sum(img==1) # output: 2856229"
   ]
  },
  {
   "cell_type": "code",
   "execution_count": null,
   "metadata": {},
   "outputs": [],
   "source": [
    "img_bin = np.where(img==0, 0, 255)\n",
    "img_bin"
   ]
  },
  {
   "cell_type": "code",
   "execution_count": null,
   "metadata": {},
   "outputs": [],
   "source": [
    "img_bin = img_bin.astype(np.uint8)\n",
    "cv2.namedWindow('show diff', cv2.WINDOW_NORMAL)\n",
    "cv2.imshow('show diff', img_bin)\n",
    "cv2.waitKey()\n",
    "cv2.destroyAllWindows()"
   ]
  },
  {
   "cell_type": "markdown",
   "metadata": {},
   "source": [
    "# Extra: Gaussian, median filters"
   ]
  },
  {
   "cell_type": "code",
   "execution_count": 6,
   "metadata": {},
   "outputs": [],
   "source": [
    "### Gaussian filter\n",
    "### params gridsearch\n",
    "ksize = np.array([3, 5, 7, 9, 11, 13])\n",
    "sigmaX = np.linspace(0.1, 3.0, 6)\n",
    "\n",
    "params, cnt = combine_grid_params(ksize, sigmaX)\n",
    "# check params number:\n",
    "if cnt != 2:\n",
    "    raise ValueError\n",
    "\n",
    "### output\n",
    "for param in params:\n",
    "    img_gauss = cv2.GaussianBlur(img_gray_origin, ksize=(param[0], param[0]), sigmaX=param[1])\n",
    "    cv2.imwrite(PATH_OUTPUT_SMOOTH+f'gaussian\\\\ksize={param[0]} sigmaX={param[1]}.png', img_gauss)"
   ]
  },
  {
   "cell_type": "code",
   "execution_count": 7,
   "metadata": {},
   "outputs": [],
   "source": [
    "### median filter\n",
    "### params gridsearch\n",
    "ksize = np.array([3, 5, 7, 9, 11, 13, 15, 17, 19])\n",
    "\n",
    "params, cnt = combine_grid_params(ksize)\n",
    "# check params number:\n",
    "if cnt != 1:\n",
    "    raise ValueError\n",
    "\n",
    "### output\n",
    "for param in params:\n",
    "    img_median = cv2.medianBlur(img_gray_origin, ksize=param[0])\n",
    "    cv2.imwrite(PATH_OUTPUT_SMOOTH+f'median\\\\ksize={param[0]}.png', img_median)"
   ]
  },
  {
   "cell_type": "markdown",
   "metadata": {},
   "source": [
    "# Extra function: trackbar()"
   ]
  },
  {
   "cell_type": "markdown",
   "metadata": {},
   "source": [
    "1 trackbar() for bilateral filter"
   ]
  },
  {
   "cell_type": "code",
   "execution_count": null,
   "metadata": {},
   "outputs": [],
   "source": [
    "def update_all(trackPos):\n",
    "    pass\n",
    "\n",
    "cv2.namedWindow('Controls of Smoothing', cv2.WINDOW_NORMAL)\n",
    "cv2.createTrackbar('bilat_d','Controls of Smoothing', 33, TRACK_MAX_VAL, update_all)\n",
    "cv2.createTrackbar('bilat_sigmaColor','Controls of Smoothing', 20, TRACK_MAX_VAL, update_all)\n",
    "cv2.createTrackbar('bilat_sigmaSpace','Controls of Smoothing', 30, TRACK_MAX_VAL, update_all)\n",
    "\n",
    "figure_num = 0\n",
    "while True:\n",
    "    bilat_d = int(cv2.getTrackbarPos('bilat_d','Controls of Smoothing'))\n",
    "    bilat_sigmaColor = float(cv2.getTrackbarPos('bilat_sigmaColor','Controls of Smoothing'))\n",
    "    bilat_sigmaSpace = float(cv2.getTrackbarPos('bilat_sigmaSpace','Controls of Smoothing'))\n",
    "    # adjust the params\n",
    "    bilat_d = set_odd_val(bilat_d)\n",
    "    bilat_sigmaColor = set_two_decimal(bilat_sigmaColor)\n",
    "\n",
    "    # waitfor the user to press keys \n",
    "    k = cv2.waitKey(0) & 0xFF\n",
    "    if k == 32:  # `Space` key\n",
    "        ### bilateralFilter()\n",
    "        img_gray_bilat = cv2.bilateralFilter(img_gray_origin, d=bilat_d, sigmaColor=bilat_sigmaColor, sigmaSpace=bilat_sigmaSpace)\n",
    "\n",
    "        combined = np.hstack((img_gray_origin, img_gray_bilat))\n",
    "        cv2.namedWindow(f'Smoothing {figure_num + 1}: d={bilat_d}, sigmaColor={bilat_sigmaColor}, sigmaSpace={bilat_sigmaSpace}', cv2.WINDOW_NORMAL)\n",
    "        cv2.imshow(f'Smoothing {figure_num + 1}: d={bilat_d}, sigmaColor={bilat_sigmaColor}, sigmaSpace={bilat_sigmaSpace}', combined)\n",
    "        figure_num +=1\n",
    "    elif k == 27:  # `Esc` key\n",
    "        break\n",
    "cv2.destroyAllWindows()\n"
   ]
  },
  {
   "cell_type": "markdown",
   "metadata": {},
   "source": [
    "2 trackbar() for joint bilateral filter"
   ]
  },
  {
   "cell_type": "code",
   "execution_count": null,
   "metadata": {},
   "outputs": [],
   "source": [
    "# trackbar callback fucntion does nothing\n",
    "def update_all(x):\n",
    "    pass\n",
    "\n",
    "cv2.namedWindow('Controls of Smoothing', cv2.WINDOW_NORMAL)\n",
    "\n",
    "cv2.createTrackbar('gauss_ksize','Controls of Smoothing', 33, TRACK_MAX_VAL, update_all)   # !!!parameter restriction: positive & odd\n",
    "cv2.createTrackbar('gauss_sigma','Controls of Smoothing', 7, TRACK_MAX_VAL, update_all)\n",
    "cv2.createTrackbar('jointBilat_d','Controls of Smoothing', 33, TRACK_MAX_VAL, update_all)\n",
    "cv2.createTrackbar('jointBilat_sigmaColor','Controls of Smoothing', 100, TRACK_MAX_VAL, update_all)\n",
    "cv2.createTrackbar('jointBilat_sigmaSpace','Controls of Smoothing', 7, TRACK_MAX_VAL, update_all)\n",
    "\n",
    "figure_num = 0\n",
    "while True:\n",
    "    gauss_ksize = int(cv2.getTrackbarPos('gauss_ksize','Controls of Smoothing'))\n",
    "    gauss_sigma = int(cv2.getTrackbarPos('gauss_sigma','Controls of Smoothing'))\n",
    "    jointBilat_d = int(cv2.getTrackbarPos('jointBilat_d','Controls of Smoothing'))\n",
    "    jointBilat_sigmaColor = int(cv2.getTrackbarPos('jointBilat_sigmaColor','Controls of Smoothing'))\n",
    "    jointBilat_sigmaSpace = int(cv2.getTrackbarPos('jointBilat_sigmaSpace','Controls of Smoothing'))\n",
    "    # adjust the params\n",
    "    gauss_ksize = set_odd_val(gauss_ksize)\n",
    "    jointBilat_d = set_odd_val(jointBilat_d)\n",
    "    jointBilat_sigmaColor = set_two_decimal(jointBilat_sigmaColor)\n",
    "    \n",
    "    # waitfor the user to press keys \n",
    "    k = cv2.waitKey(0) & 0xFF\n",
    "    if k == 32:  # `Space` key\n",
    "        ### jointBilateralFilter()\n",
    "        # gauss filter is used as guided image(joint)\n",
    "        img_gauss = cv2.GaussianBlur(img_gray_origin, ksize=(gauss_ksize, gauss_ksize), sigmaX=gauss_sigma)\n",
    "        img_gray_jointBilat = cv2.ximgproc.jointBilateralFilter(img_gauss, img_gray_origin, d=jointBilat_d, sigmaColor=jointBilat_sigmaColor, sigmaSpace=jointBilat_sigmaSpace)\n",
    "        \n",
    "        combined = np.hstack((img_gray_origin, img_gray_jointBilat))\n",
    "        cv2.namedWindow(f'Smoothing {figure_num + 1}, GaussSize={gauss_ksize, gauss_ksize}, GaussSigma={gauss_sigma}, d={jointBilat_d}, sigmaColor={jointBilat_sigmaColor}, sigmaSpace={jointBilat_sigmaSpace}', cv2.WINDOW_NORMAL)\n",
    "        cv2.imshow(f'Smoothing {figure_num + 1}, GaussSize={gauss_ksize, gauss_ksize}, GaussSigma={gauss_sigma}, d={jointBilat_d}, sigmaColor={jointBilat_sigmaColor}, sigmaSpace={jointBilat_sigmaSpace}', combined)\n",
    "        figure_num +=1\n",
    "    elif k == 27:  # `Esc` key\n",
    "        break\n",
    "cv2.destroyAllWindows()\n"
   ]
  },
  {
   "cell_type": "markdown",
   "metadata": {},
   "source": [
    "3 trackbar() for guided filter"
   ]
  },
  {
   "cell_type": "code",
   "execution_count": null,
   "metadata": {},
   "outputs": [],
   "source": [
    "# trackbar callback fucntion does nothing\n",
    "def update_all(x):\n",
    "    pass\n",
    "\n",
    "cv2.namedWindow('Controls of Smoothing', cv2.WINDOW_NORMAL)\n",
    "# cv2.resizeWindow(\"Controls of Smoothing\", 300, 300)  \n",
    "\n",
    "cv2.createTrackbar('guide_radius','Controls of Smoothing', 14, TRACK_MAX_VAL, update_all)\n",
    "cv2.createTrackbar('guide_eps','Controls of Smoothing', 20, TRACK_MAX_VAL, update_all)   # square is like `sigmaColor`\n",
    "\n",
    "figure_num = 0\n",
    "while True:\n",
    "    guide_radius = int(cv2.getTrackbarPos('guide_radius','Controls of Smoothing'))\n",
    "    guide_eps = int(cv2.getTrackbarPos('guide_eps','Controls of Smoothing'))\n",
    "    # adjust the params\n",
    "    guide_eps = set_two_decimal(guide_eps)\n",
    "    \n",
    "    # waitfor the user to press keys \n",
    "    k = cv2.waitKey(0) & 0xFF\n",
    "    if k == 32:  # `Space`\n",
    "        ### GuidedFilter.filter()\n",
    "        img_gray_guided = cv2.ximgproc.guidedFilter(guide=img_rgb, \n",
    "                                                src=img_gray_origin,\n",
    "                                                radius=guide_radius,\n",
    "                                                eps=guide_eps)\n",
    "            \n",
    "        combined = np.hstack((img_gray_origin, img_gray_guided))\n",
    "        cv2.namedWindow(f'Smoothing {figure_num + 1}, radius={guide_radius}, eps={guide_eps}', cv2.WINDOW_NORMAL)\n",
    "        cv2.imshow(f'Smoothing {figure_num + 1}, radius={guide_radius}, eps={guide_eps}', combined)\n",
    "        figure_num +=1\n",
    "    elif k == 27:  # `Esc`\n",
    "        break\n",
    "cv2.destroyAllWindows()\n"
   ]
  },
  {
   "cell_type": "code",
   "execution_count": null,
   "metadata": {},
   "outputs": [],
   "source": [
    "\"\"\"\n",
    "def update_all(trackPos):\n",
    "    bilat_d = int(cv2.getTrackbarPos('bilat_d','Controls of Smoothing'))\n",
    "    bilat_sigmaColor = int(cv2.getTrackbarPos('bilat_sigmaColor','Controls of Smoothing'))\n",
    "    bilat_sigmaSpace = int(cv2.getTrackbarPos('bilat_sigmaSpace','Controls of Smoothing'))\n",
    "    ### bilateralFilter()\n",
    "    img_gray_bilat = cv2.bilateralFilter(img_gray_origin, d=bilat_d, sigmaColor=bilat_sigmaColor, sigmaSpace=bilat_sigmaSpace)\n",
    "\n",
    "\n",
    "    gauss_ksize = int(cv2.getTrackbarPos('gauss_ksize','Controls of Smoothing'))\n",
    "    if gauss_ksize % 2 == 0:\n",
    "        gauss_ksize = gauss_ksize + 1\n",
    "\n",
    "    gauss_sigma = int(cv2.getTrackbarPos('gauss_sigma','Controls of Smoothing'))\n",
    "    jointBilat_d = int(cv2.getTrackbarPos('jointBilat_d','Controls of Smoothing'))\n",
    "    jointBilat_sigmaColor = int(cv2.getTrackbarPos('jointBilat_sigmaColor','Controls of Smoothing'))\n",
    "    jointBilat_sigmaSpace = int(cv2.getTrackbarPos('jointBilat_sigmaSpace','Controls of Smoothing'))\n",
    "    ### jointBilateralFilter()\n",
    "    # gauss filter is used as guided image(joint)\n",
    "    img_gauss = cv2.GaussianBlur(img_gray_origin, ksize=(gauss_ksize, gauss_ksize), sigmaX=gauss_sigma)\n",
    "    img_gray_jointBilat = cv2.ximgproc.jointBilateralFilter(img_gauss, img_gray_origin, d=jointBilat_d, sigmaColor=jointBilat_sigmaColor, sigmaSpace=jointBilat_sigmaSpace)\n",
    "\n",
    "\n",
    "    guide_radius = int(cv2.getTrackbarPos('guide_radius','Controls of Smoothing'))\n",
    "    guide_eps = int(cv2.getTrackbarPos('guide_eps','Controls of Smoothing'))\n",
    "    ### GuidedFilter.filter()\n",
    "    img_gray_guided = cv2.ximgproc.guidedFilter(guide=img_rgb, \n",
    "                                            src=img_gray_origin,\n",
    "                                            radius=guide_radius,\n",
    "                                            eps=guide_eps)\n",
    "\n",
    "    img_combined = np.hstack((img_gray_origin, img_gray_bilat, img_gray_jointBilat, img_gray_guided))\n",
    "\n",
    "    cv2.imshow('Controls of Smoothing', img_combined)\n",
    "\n",
    "\n",
    "cv2.namedWindow('Controls of Smoothing', cv2.WINDOW_NORMAL)\n",
    "\n",
    "cv2.createTrackbar('bilat_d','Controls of Smoothing', 0, TRACK_MAX_VAL, update_all)\n",
    "cv2.createTrackbar('bilat_sigmaColor','Controls of Smoothing', 0, TRACK_MAX_VAL, update_all)\n",
    "cv2.createTrackbar('bilat_sigmaSpace','Controls of Smoothing', 0, TRACK_MAX_VAL, update_all)\n",
    "\n",
    "cv2.createTrackbar('gauss_ksize','Controls of Smoothing', 0, TRACK_MAX_VAL, update_all)   # !!!parameter restriction: positive & odd\n",
    "cv2.createTrackbar('gauss_sigma','Controls of Smoothing', 0, TRACK_MAX_VAL, update_all)\n",
    "cv2.createTrackbar('jointBilat_d','Controls of Smoothing', 0, TRACK_MAX_VAL, update_all)\n",
    "cv2.createTrackbar('jointBilat_sigmaColor','Controls of Smoothing', 0, TRACK_MAX_VAL, update_all)\n",
    "cv2.createTrackbar('jointBilat_sigmaSpace','Controls of Smoothing', 0, TRACK_MAX_VAL, update_all)\n",
    "\n",
    "cv2.createTrackbar('guide_radius','Controls of Smoothing', 0, TRACK_MAX_VAL, update_all)\n",
    "cv2.createTrackbar('guide_eps','Controls of Smoothing', 0, TRACK_MAX_VAL, update_all)   # square is like `sigmaColor`\n",
    "\n",
    "while True:\n",
    "    # waitfor the user to press keys \n",
    "    k = cv2.waitKey(0) & 0xFF\n",
    "    if k == 32:  # `Space`\n",
    "        ### bilateralFilter()\n",
    "        img_gray_bilat = cv2.bilateralFilter(img_gray_origin, d=bilat_d, sigmaColor=bilat_sigmaColor, sigmaSpace=bilat_sigmaSpace)\n",
    "\n",
    "        img_combined = np.hstack((img_gray_origin, img_gray_bilat))\n",
    "        cv2.imshow('Controls of Smoothing', img_combined)\n",
    "    if k == 27:  # `Esc`\n",
    "        print(-1, bilat_d, bilat_sigmaColor, bilat_sigmaSpace)\n",
    "        break\n",
    "cv2.destroyAllWindows()"
   ]
  }
 ],
 "metadata": {
  "kernelspec": {
   "display_name": "Python 3.9.11 ('kitma': venv)",
   "language": "python",
   "name": "python3"
  },
  "language_info": {
   "codemirror_mode": {
    "name": "ipython",
    "version": 3
   },
   "file_extension": ".py",
   "mimetype": "text/x-python",
   "name": "python",
   "nbconvert_exporter": "python",
   "pygments_lexer": "ipython3",
   "version": "3.9.11"
  },
  "orig_nbformat": 4,
  "vscode": {
   "interpreter": {
    "hash": "463793bc9e1e9a58e8cafb277c4e2d1a0246c1b12e6a20c09fb9ac2fbdfa6020"
   }
  }
 },
 "nbformat": 4,
 "nbformat_minor": 2
}
