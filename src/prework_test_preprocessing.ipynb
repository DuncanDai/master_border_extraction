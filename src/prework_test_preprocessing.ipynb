{
 "cells": [
  {
   "cell_type": "code",
   "execution_count": 1,
   "metadata": {},
   "outputs": [],
   "source": [
    "# -*- encoding: utf-8 -*-\n",
    "import sys\n",
    "import time  # unit: (second)\n",
    "import numpy as np\n",
    "import matplotlib.pyplot as plt\n",
    "%matplotlib inline\n",
    "import cv2\n",
    "\n",
    "from typing import Tuple\n",
    "from _homomorphicFilter import homomorphic_filter as homo_filter\n",
    "from preprocess_components import ImgPreprocess\n",
    "\n",
    "# constant\n",
    "TRACK_MAX_VAL = 100\n",
    "# paths\n",
    "PATH_IMAGE = 'D:\\\\My_Data\\\\me_Docs\\\\Masterarbeit\\\\master_border_extraction\\\\images\\\\test1.png'\n",
    "PATH_OUTPUT = 'D:\\\\My_Data\\\\me_Docs\\\\Masterarbeit\\\\master_border_extraction\\\\data\\\\output\\\\'\n",
    "\n",
    "# env: windows\n",
    "img_bgr_origin = cv2.imread(PATH_IMAGE, cv2.IMREAD_COLOR)  # color image\n",
    "img_gray_origin = cv2.imread(PATH_IMAGE, cv2.IMREAD_GRAYSCALE) # gray image\n",
    "img_rgb = cv2.cvtColor(img_bgr_origin, cv2.COLOR_BGR2RGB)"
   ]
  },
  {
   "cell_type": "markdown",
   "metadata": {},
   "source": [
    "Start of test:"
   ]
  },
  {
   "cell_type": "code",
   "execution_count": 2,
   "metadata": {},
   "outputs": [],
   "source": [
    "preprocess = ImgPreprocess(img_gray_origin)\n",
    "SMOOTH_GUIDED = 1\n",
    "SMOOTH_BILATERAL = 2\n",
    "SMOOTH_JOINT_BILATERAL = 3\n",
    "\n",
    "HIST_CLAHE = 1\n",
    "HIST_HE = 2\n",
    "\n",
    "SHARPEN_HOMOMORPHIC = 1\n",
    "SHARPEN_GRADIENT_SCHARR = 2\n",
    "SHARPEN_GRADIENT_CANNY = 3"
   ]
  },
  {
   "cell_type": "code",
   "execution_count": 7,
   "metadata": {},
   "outputs": [],
   "source": [
    "kwargs = {'clipLimit': 59, 'tile_width': 10, 'tile_height':50}\n",
    "kwargs['clipLimit']\n",
    "img_test = preprocess.equalize(method=HIST_CLAHE, **kwargs)"
   ]
  },
  {
   "cell_type": "code",
   "execution_count": 8,
   "metadata": {},
   "outputs": [],
   "source": [
    "cv2.namedWindow(\"image\", cv2.WINDOW_NORMAL) \n",
    "cv2.imshow('image', img_test)\n",
    "cv2.waitKey()\n",
    "cv2.destroyAllWindows()"
   ]
  },
  {
   "cell_type": "markdown",
   "metadata": {},
   "source": [
    "End of test."
   ]
  },
  {
   "cell_type": "code",
   "execution_count": null,
   "metadata": {},
   "outputs": [],
   "source": [
    "def set_odd_val(num):\n",
    "    if num % 2 == 0:\n",
    "        num += 1\n",
    "    return num\n",
    "\n",
    "def set_two_decimal(num):\n",
    "    return float(num)/100"
   ]
  },
  {
   "cell_type": "code",
   "execution_count": null,
   "metadata": {},
   "outputs": [],
   "source": [
    "### Basic Infos\n",
    "dimensions = img_gray_origin.shape\n",
    "print(dimensions) # (2064, 3088, 3) => height, width pixels, channels "
   ]
  },
  {
   "cell_type": "code",
   "execution_count": null,
   "metadata": {},
   "outputs": [],
   "source": [
    "### Info: color & grayscale images\n",
    "plt.subplots(1, 3, figsize=(24, 13.5))\n",
    "plt.subplots_adjust(wspace=0.4, hspace=0.4) # adjust the distance between subplots\n",
    "\n",
    "plt.subplot(131), plt.title('color (BGR)'), plt.imshow(img_bgr_origin)  \n",
    "plt.subplot(132), plt.title('color (RGB)'), plt.imshow(img_rgb)  \n",
    "plt.subplot(133), plt.title('grayscale'), plt.imshow(img_gray_origin, cmap='gray')  "
   ]
  },
  {
   "cell_type": "markdown",
   "metadata": {},
   "source": [
    "## Step1. Smoothing"
   ]
  },
  {
   "cell_type": "markdown",
   "metadata": {},
   "source": [
    "bilateralFilter()\n",
    "- kernel size: d=5\n",
    "- sigma of color: sigmaColor=20\n",
    "- sigma of space: sigmaSpace=20"
   ]
  },
  {
   "cell_type": "code",
   "execution_count": null,
   "metadata": {},
   "outputs": [],
   "source": [
    "img_gray_bilat = cv2.bilateralFilter(img_gray_origin, d=5, sigmaColor=20, sigmaSpace=20)"
   ]
  },
  {
   "cell_type": "markdown",
   "metadata": {},
   "source": [
    "jointBilateralFilter()\n",
    "- & Gaussian filter: \n",
    "    - ksize\n",
    "    - sigmaX\n",
    "- d\n",
    "- sigmaColor\n",
    "- sigmaSpace"
   ]
  },
  {
   "cell_type": "code",
   "execution_count": null,
   "metadata": {},
   "outputs": [],
   "source": [
    "# gauss filter is used as guided image(joint)\n",
    "img_gauss = cv2.GaussianBlur(img_gray_origin, ksize=(5, 5), sigmaX=1)\n",
    "img_gray_jointBilat = cv2.ximgproc.jointBilateralFilter(img_gauss, img_gray_origin, d=5, sigmaColor=10, sigmaSpace=5)\n"
   ]
  },
  {
   "cell_type": "markdown",
   "metadata": {},
   "source": [
    "GuidedFilter.filter()\n",
    "- radius\n",
    "- eps"
   ]
  },
  {
   "cell_type": "code",
   "execution_count": null,
   "metadata": {},
   "outputs": [],
   "source": [
    "img_gray_guided = cv2.ximgproc.guidedFilter(guide=img_rgb, \n",
    "                                            src=img_gray_origin,\n",
    "                                            radius=10,\n",
    "                                            eps=2)"
   ]
  },
  {
   "cell_type": "markdown",
   "metadata": {},
   "source": [
    "## Step2. Histogramm Enhancement"
   ]
  },
  {
   "cell_type": "markdown",
   "metadata": {},
   "source": [
    "Check: Histogramm"
   ]
  },
  {
   "cell_type": "code",
   "execution_count": null,
   "metadata": {},
   "outputs": [],
   "source": [
    "hist_gray = cv2.calcHist([img_gray_origin],[0],None,[256],[0,256])   # shape is (256, 1)\n",
    "plt.title('Grayscale histogramm distribution'), plt.plot(hist_gray)"
   ]
  },
  {
   "cell_type": "markdown",
   "metadata": {},
   "source": [
    "!!! TODOs\n",
    "- [1] discover the meaning of two parts\n",
    "- [2] set the left part to 0 => check the effect"
   ]
  },
  {
   "cell_type": "markdown",
   "metadata": {},
   "source": [
    "1 Equalization (HE)"
   ]
  },
  {
   "cell_type": "code",
   "execution_count": null,
   "metadata": {},
   "outputs": [],
   "source": [
    "gray_equal = cv2.equalizeHist(img_gray_origin)\n",
    "hist_gray_equal = cv2.calcHist([gray_equal],[0],None,[256],[0,256])   # shape is (256, 1)\n",
    "\n",
    "plt.figure(figsize=(18, 10.125))\n",
    "plt.subplots_adjust(wspace=0.4, hspace=0.6)\n",
    "\n",
    "plt.subplot(121), plt.title('Grayscale with HE'), plt.imshow(gray_equal, cmap='gray')\n",
    "plt.subplot(122), plt.title('Grayscale with HE'), plt.plot(hist_gray_equal)"
   ]
  },
  {
   "cell_type": "markdown",
   "metadata": {},
   "source": [
    "2 Contrast Limited AHE (CLAHE)\n",
    "- clipLimit\n",
    "- tileGridSize"
   ]
  },
  {
   "cell_type": "code",
   "execution_count": null,
   "metadata": {},
   "outputs": [],
   "source": [
    "# grayscale\n",
    "clahe = cv2.createCLAHE(clipLimit=2.0, tileGridSize=(8,8))\n",
    "gray_clahe = clahe.apply(img_gray_origin)\n",
    "\n",
    "hist_gray_clahe = cv2.calcHist([gray_clahe],[0],None,[256],[0,256])   # shape is (256, 1)\n",
    "\n",
    "plt.figure(figsize=(18, 10.125))\n",
    "plt.subplots_adjust(wspace=0.4, hspace=0.6)\n",
    "\n",
    "plt.subplot(121), plt.title('Grayscale with CLAHE'), plt.imshow(gray_clahe, cmap='gray')\n",
    "plt.subplot(122), plt.title('Grayscale with CLAHE'), plt.plot(hist_gray_clahe)"
   ]
  },
  {
   "cell_type": "markdown",
   "metadata": {},
   "source": [
    "## Step3. Sharpening"
   ]
  },
  {
   "cell_type": "code",
   "execution_count": null,
   "metadata": {},
   "outputs": [],
   "source": [
    "# import libraries of designed filters \n",
    "from _homomorphicFilter import homomorphic_filter as homo_filter\n",
    "from _marrHildrethFilter import edgesMarrHildreth as marrFilter"
   ]
  },
  {
   "cell_type": "markdown",
   "metadata": {},
   "source": [
    "Spatial domain: USM"
   ]
  },
  {
   "cell_type": "code",
   "execution_count": null,
   "metadata": {},
   "outputs": [],
   "source": [
    "kernel = np.array([[0, -1, 0],\n",
    "                   [-1, 5,-1],\n",
    "                   [0, -1, 0]])\n",
    "gray_USM = cv2.filter2D(src=img_gray_origin, ddepth=-1, kernel=kernel)\n",
    "sharp_USM = np.hstack((img_gray_origin, gray_USM))\n",
    "plt.figure(figsize=(24, 13.5)), plt.title('Sharpening: USM (right)'), plt.imshow(sharp_USM, cmap='gray')  \n"
   ]
  },
  {
   "cell_type": "markdown",
   "metadata": {},
   "source": [
    "Frequency domain: Hormorphic filter"
   ]
  },
  {
   "cell_type": "code",
   "execution_count": null,
   "metadata": {},
   "outputs": [],
   "source": [
    "# img = cv2.resize(img, (400, 400))\n",
    "img_homo_filtered = homo_filter(img_gray_origin)\n",
    "\n",
    "sharp_homor = np.hstack((img_gray_origin, img_homo_filtered))\n",
    "plt.figure(figsize=(24, 13.5)), plt.title('Sharpening: Homomorphic Filter (right)'), plt.imshow(sharp_homor, cmap='gray')  "
   ]
  },
  {
   "cell_type": "markdown",
   "metadata": {},
   "source": [
    "## TEST for edge detection descriptor"
   ]
  },
  {
   "cell_type": "markdown",
   "metadata": {},
   "source": [
    "TEST: canny filter"
   ]
  },
  {
   "cell_type": "code",
   "execution_count": null,
   "metadata": {},
   "outputs": [],
   "source": [
    "edges = cv2.Canny(img_gray_origin, 70, 80)  # the upper threshold should be lower (about 80)\n",
    "sharpening_contrast = np.hstack((img_gray_origin, edges))\n",
    "cv2.namedWindow(\"canny filter\", cv2.WINDOW_NORMAL) \n",
    "cv2.imshow('canny filter', sharpening_contrast)\n",
    "cv2.waitKey()\n",
    "cv2.destroyAllWindows()"
   ]
  },
  {
   "cell_type": "markdown",
   "metadata": {},
   "source": [
    "TEST: Marr-Hildreth"
   ]
  },
  {
   "cell_type": "code",
   "execution_count": null,
   "metadata": {},
   "outputs": [],
   "source": [
    "log, zero_crossing = marrFilter(img_gray_origin, sigma=3)\n",
    "\n",
    "plt.figure(figsize=(18, 10.125))\n",
    "plt.subplots_adjust(wspace=0.4, hspace=0.6)\n",
    "\n",
    "plt.subplot(121), plt.title('Laplacian of Gaussian'), plt.imshow(log, cmap='gray')\n",
    "plt.subplot(122), plt.title('Marr-Hildreth Filter'), plt.imshow(zero_crossing, cmap='gray')"
   ]
  },
  {
   "cell_type": "code",
   "execution_count": null,
   "metadata": {},
   "outputs": [],
   "source": [
    "cv2.imwrite(PATH_OUTPUT+'Marr-LoG for guided.png', log)\n",
    "cv2.imwrite(PATH_OUTPUT+'Marr for guided.png', zero_crossing)"
   ]
  },
  {
   "cell_type": "markdown",
   "metadata": {},
   "source": [
    "TEST: Scharr"
   ]
  },
  {
   "cell_type": "code",
   "execution_count": null,
   "metadata": {},
   "outputs": [],
   "source": [
    "# Scharr kernel\n",
    "kernScharrX = np.array([[-3, 0, 3], \n",
    "                        [-10, 0, 10], \n",
    "                        [-3, 0, 3]])  # ScharrX kernel\n",
    "kernScharrY = np.array([[-3, 10, -3], \n",
    "                        [0, 0, 10], \n",
    "                        [3, 10, 3]])  # ScharrY kernel\n",
    "\n",
    "ScharrX = cv2.Scharr(img_gray_origin, cv2.CV_16S, 1, 0)\n",
    "ScharrY = cv2.Scharr(img_gray_origin, cv2.CV_16S, 0, 1)  \n",
    "absX = cv2.convertScaleAbs(ScharrX)\n",
    "absY = cv2.convertScaleAbs(ScharrY)  # format: uint8\n",
    "ScharrXY = cv2.addWeighted(absX, 0.5, absY, 0.5, 0)  # abs instead of square root\n",
    "\n",
    "plt.figure(figsize=(24, 13.5))\n",
    "plt.subplot(141), plt.axis('off'), plt.title(\"Original\"), plt.imshow(img_gray_origin, cmap='gray', vmin=0, vmax=255)\n",
    "plt.subplot(142), plt.axis('off'), plt.title(\"ScharrX\"), plt.imshow(ScharrX, cmap='gray', vmin=0, vmax=255)\n",
    "plt.subplot(143), plt.axis('off'), plt.title(\"ScharrY\"), plt.imshow(ScharrY, cmap='gray', vmin=0, vmax=255)\n",
    "plt.subplot(144), plt.axis('off'), plt.title(\"ScharrXY\"), plt.imshow(ScharrXY, cmap='gray')\n",
    "plt.tight_layout()\n",
    "plt.show()"
   ]
  },
  {
   "cell_type": "code",
   "execution_count": null,
   "metadata": {},
   "outputs": [],
   "source": [
    "cv2.imwrite(PATH_OUTPUT+'ScharXY for guided.png', ScharrXY)"
   ]
  },
  {
   "cell_type": "code",
   "execution_count": null,
   "metadata": {},
   "outputs": [],
   "source": [
    "ScharrXY.shape"
   ]
  },
  {
   "cell_type": "markdown",
   "metadata": {},
   "source": [
    "Function: trackbar()"
   ]
  },
  {
   "cell_type": "markdown",
   "metadata": {},
   "source": [
    "trackerbar() run successful -> CLAHE"
   ]
  },
  {
   "cell_type": "code",
   "execution_count": null,
   "metadata": {},
   "outputs": [],
   "source": [
    "# trackbar callback fucntion does nothing\n",
    "def update_all(x):\n",
    "    pass\n",
    "\n",
    "cv2.namedWindow('controls CLAHE', cv2.WINDOW_NORMAL)\n",
    "#cv2.resizeWindow(\"controls CLAHE\", 300, 300)  \n",
    "\n",
    "cv2.createTrackbar('clipLimit','controls CLAHE', 40, TRACK_MAX_VAL, update_all)\n",
    "cv2.createTrackbar('tileGridSize_width','controls CLAHE', 8, TRACK_MAX_VAL, update_all)\n",
    "cv2.createTrackbar('tileGridSize_height','controls CLAHE', 8, TRACK_MAX_VAL, update_all)\n",
    "\n",
    "figure_num = 0\n",
    "while True:\n",
    "    clipLimit = float(cv2.getTrackbarPos('clipLimit','controls CLAHE'))\n",
    "    tileGridSize_width = int(cv2.getTrackbarPos('tileGridSize_width','controls CLAHE'))\n",
    "    tileGridSize_height = int(cv2.getTrackbarPos('tileGridSize_height','controls CLAHE'))\n",
    "    # adjust the params\n",
    "\n",
    "    # waitfor the user to press keys \n",
    "    k = cv2.waitKey(0) & 0xFF\n",
    "    if k == 32:  # `Space` key\n",
    "        clahe = cv2.createCLAHE(clipLimit=clipLimit, tileGridSize=(tileGridSize_width, tileGridSize_height))\n",
    "        clahe_gray = clahe.apply(img_gray_origin)\n",
    "        \n",
    "        combined = np.hstack((img_gray_origin, clahe_gray))\n",
    "        cv2.namedWindow(f'controls CLAHE {figure_num + 1}', cv2.WINDOW_NORMAL)\n",
    "        cv2.imshow(f'controls CLAHE {figure_num + 1}', combined)\n",
    "        figure_num +=1\n",
    "    elif k == 27:  # `Esc` key\n",
    "        print(-1, clipLimit, tileGridSize_width, tileGridSize_height)\n",
    "        break\n",
    "cv2.destroyAllWindows()"
   ]
  }
 ],
 "metadata": {
  "kernelspec": {
   "display_name": "Python 3.10.5 ('kitma': venv)",
   "language": "python",
   "name": "python3"
  },
  "language_info": {
   "codemirror_mode": {
    "name": "ipython",
    "version": 3
   },
   "file_extension": ".py",
   "mimetype": "text/x-python",
   "name": "python",
   "nbconvert_exporter": "python",
   "pygments_lexer": "ipython3",
   "version": "3.9.11"
  },
  "orig_nbformat": 4,
  "vscode": {
   "interpreter": {
    "hash": "463793bc9e1e9a58e8cafb277c4e2d1a0246c1b12e6a20c09fb9ac2fbdfa6020"
   }
  }
 },
 "nbformat": 4,
 "nbformat_minor": 2
}
