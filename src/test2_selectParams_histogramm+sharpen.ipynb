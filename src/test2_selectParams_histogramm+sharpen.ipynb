{
 "cells": [
  {
   "cell_type": "code",
   "execution_count": 6,
   "metadata": {},
   "outputs": [],
   "source": [
    "# -*- encoding: utf-8 -*-\n",
    "import sys\n",
    "import cv2\n",
    "import numpy as np\n",
    "%matplotlib inline\n",
    "import matplotlib.pyplot as plt\n",
    "\n",
    "# constant\n",
    "TRACK_MAX_VAL = 100\n",
    "\n",
    "# env: windows\n",
    "PATH_IMAGE = 'D:\\\\My_Data\\\\me_Docs\\\\Masterarbeit\\\\master_border_extraction\\\\images\\\\test1.png'\n",
    "img_bgr_origin = cv2.imread(PATH_IMAGE, cv2.IMREAD_COLOR)  # color image\n",
    "img_gray_origin = cv2.imread(PATH_IMAGE, cv2.IMREAD_GRAYSCALE) # gray image\n",
    "img_rgb = cv2.cvtColor(img_bgr_origin, cv2.COLOR_BGR2RGB)"
   ]
  },
  {
   "cell_type": "code",
   "execution_count": 7,
   "metadata": {},
   "outputs": [],
   "source": [
    "def set_odd_val(num):\n",
    "    if num % 2 == 0:\n",
    "        num += 1\n",
    "    return num\n",
    "\n",
    "def set_two_decimal(num):\n",
    "    return float(num)/100"
   ]
  },
  {
   "cell_type": "markdown",
   "metadata": {},
   "source": [
    "## 2 Histogramm Enhancement\n",
    "Decision: Contrast Limited AHE (CLAHE)\n",
    "- clipLimit\n",
    "- tileGridSize"
   ]
  },
  {
   "cell_type": "code",
   "execution_count": 8,
   "metadata": {},
   "outputs": [],
   "source": [
    "# trackbar callback fucntion does nothing\n",
    "def update_all(x):\n",
    "    pass\n",
    "\n",
    "cv2.namedWindow('controls CLAHE', cv2.WINDOW_NORMAL)\n",
    "#cv2.resizeWindow(\"controls CLAHE\", 300, 300)  \n",
    "\n",
    "cv2.createTrackbar('clipLimit','controls CLAHE', 40, TRACK_MAX_VAL, update_all)\n",
    "cv2.createTrackbar('tileGridSize_width','controls CLAHE', 8, TRACK_MAX_VAL, update_all)\n",
    "cv2.createTrackbar('tileGridSize_height','controls CLAHE', 8, TRACK_MAX_VAL, update_all)\n",
    "\n",
    "figure_num = 0\n",
    "while True:\n",
    "    clipLimit = float(cv2.getTrackbarPos('clipLimit','controls CLAHE'))\n",
    "    tileGridSize_width = int(cv2.getTrackbarPos('tileGridSize_width','controls CLAHE'))\n",
    "    tileGridSize_height = int(cv2.getTrackbarPos('tileGridSize_height','controls CLAHE'))\n",
    "    # adjust the params\n",
    "\n",
    "    # waitfor the user to press keys \n",
    "    k = cv2.waitKey(0) & 0xFF\n",
    "    if k == 32:  # `Space` key\n",
    "        clahe = cv2.createCLAHE(clipLimit=clipLimit, tileGridSize=(tileGridSize_width, tileGridSize_height))\n",
    "        clahe_gray = clahe.apply(img_gray_origin)\n",
    "        \n",
    "        combined = np.hstack((img_gray_origin, clahe_gray))\n",
    "        cv2.namedWindow(f'controls CLAHE {figure_num + 1}: clipLimit {clipLimit}, gridWidth {tileGridSize_width}, gridHeight {tileGridSize_height}', cv2.WINDOW_NORMAL)\n",
    "        cv2.imshow(f'controls CLAHE {figure_num + 1}: clipLimit {clipLimit}, gridWidth {tileGridSize_width}, gridHeight {tileGridSize_height}', combined)\n",
    "        figure_num +=1\n",
    "    elif k == 27:  # `Esc` key\n",
    "        break\n",
    "cv2.destroyAllWindows()"
   ]
  },
  {
   "cell_type": "markdown",
   "metadata": {},
   "source": [
    "## 3 Sharpening\n",
    "Decision:\n",
    "\n",
    "1) UMS => fast (params free)\n",
    "\n",
    "2) homomorphoc filter => good result\n",
    "- d0\n",
    "- gamma_h\n",
    "- gamma_l\n",
    "- c"
   ]
  },
  {
   "cell_type": "code",
   "execution_count": null,
   "metadata": {},
   "outputs": [],
   "source": []
  }
 ],
 "metadata": {
  "kernelspec": {
   "display_name": "Python 3.9.11 ('kitma': venv)",
   "language": "python",
   "name": "python3"
  },
  "language_info": {
   "codemirror_mode": {
    "name": "ipython",
    "version": 3
   },
   "file_extension": ".py",
   "mimetype": "text/x-python",
   "name": "python",
   "nbconvert_exporter": "python",
   "pygments_lexer": "ipython3",
   "version": "3.9.11"
  },
  "orig_nbformat": 4,
  "vscode": {
   "interpreter": {
    "hash": "463793bc9e1e9a58e8cafb277c4e2d1a0246c1b12e6a20c09fb9ac2fbdfa6020"
   }
  }
 },
 "nbformat": 4,
 "nbformat_minor": 2
}
